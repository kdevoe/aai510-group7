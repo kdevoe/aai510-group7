{
 "cells": [
  {
   "cell_type": "markdown",
   "id": "12f2d332",
   "metadata": {},
   "source": [
    "# Predicting On-time Delivery of Online Purchases\n",
    "## Part III-A: Modeling - Logistic Regression, X1, X2\n",
    "## AAI-510 Team 7 Final Project\n",
    "\n",
    "Team 7:  Ken Devoe, Tyler Foreman, Geoffrey Fadera\n",
    "\n",
    "University of San Diego, Applied Artificial Intelligence\n",
    "\n",
    "Date:  June 24, 2024\n",
    "\n",
    "GitHub Repository: https://github.com/kdevoe/aai510-group7"
   ]
  },
  {
   "cell_type": "markdown",
   "id": "f9683659",
   "metadata": {},
   "source": [
    "## Import Common Functions"
   ]
  },
  {
   "cell_type": "code",
   "execution_count": 14,
   "id": "d28bdc66",
   "metadata": {},
   "outputs": [],
   "source": [
    "%run shipping_common_functions.ipynb"
   ]
  },
  {
   "cell_type": "markdown",
   "id": "4b9f13a8",
   "metadata": {},
   "source": [
    "## Imports"
   ]
  },
  {
   "cell_type": "code",
   "execution_count": 2,
   "id": "2bf7249a",
   "metadata": {},
   "outputs": [],
   "source": [
    "import pandas as pd\n",
    "import numpy as np\n",
    "from sklearn.linear_model import LogisticRegression"
   ]
  },
  {
   "cell_type": "markdown",
   "id": "3b6d8a1e",
   "metadata": {},
   "source": [
    "## Load Preprocessed Data"
   ]
  },
  {
   "cell_type": "code",
   "execution_count": 3,
   "id": "e4109360",
   "metadata": {},
   "outputs": [],
   "source": [
    "# train data\n",
    "X_train = pd.read_csv('./data/x_train.csv')\n",
    "y_train = np.ravel(pd.read_csv('./data/y_train.csv'))\n",
    "\n",
    "# val data\n",
    "X_val = pd.read_csv('./data/x_val.csv')\n",
    "y_val = np.ravel(pd.read_csv('./data/y_val.csv'))"
   ]
  },
  {
   "cell_type": "code",
   "execution_count": 4,
   "id": "934b6c19",
   "metadata": {},
   "outputs": [
    {
     "name": "stdout",
     "output_type": "stream",
     "text": [
      "TRAIN SET:\n",
      "   X_train: (8799, 17)\n",
      "   y_train: (8799,)\n",
      "\n",
      "VALIDATION SET:\n",
      "   X_val: (1100, 17)\n",
      "   y_val: (1100,)\n"
     ]
    }
   ],
   "source": [
    "# Check imported data\n",
    "print('TRAIN SET:')\n",
    "print('   X_train:', X_train.shape)\n",
    "print('   y_train:', y_train.shape)\n",
    "print('\\nVALIDATION SET:')\n",
    "print('   X_val:', X_val.shape)\n",
    "print('   y_val:', y_val.shape)"
   ]
  },
  {
   "cell_type": "code",
   "execution_count": 5,
   "id": "ecf70e72",
   "metadata": {},
   "outputs": [
    {
     "data": {
      "text/html": [
       "<div>\n",
       "<style scoped>\n",
       "    .dataframe tbody tr th:only-of-type {\n",
       "        vertical-align: middle;\n",
       "    }\n",
       "\n",
       "    .dataframe tbody tr th {\n",
       "        vertical-align: top;\n",
       "    }\n",
       "\n",
       "    .dataframe thead th {\n",
       "        text-align: right;\n",
       "    }\n",
       "</style>\n",
       "<table border=\"1\" class=\"dataframe\">\n",
       "  <thead>\n",
       "    <tr style=\"text-align: right;\">\n",
       "      <th></th>\n",
       "      <th>Customer_care_calls</th>\n",
       "      <th>Customer_rating</th>\n",
       "      <th>Cost_of_the_Product</th>\n",
       "      <th>Prior_purchases</th>\n",
       "      <th>Product_importance</th>\n",
       "      <th>Discount_offered</th>\n",
       "      <th>Weight_in_gms</th>\n",
       "      <th>Warehouse_block_A</th>\n",
       "      <th>Warehouse_block_B</th>\n",
       "      <th>Warehouse_block_C</th>\n",
       "      <th>Warehouse_block_D</th>\n",
       "      <th>Warehouse_block_F</th>\n",
       "      <th>Mode_of_Shipment_Flight</th>\n",
       "      <th>Mode_of_Shipment_Road</th>\n",
       "      <th>Mode_of_Shipment_Ship</th>\n",
       "      <th>Gender_F</th>\n",
       "      <th>Gender_M</th>\n",
       "    </tr>\n",
       "  </thead>\n",
       "  <tbody>\n",
       "    <tr>\n",
       "      <th>0</th>\n",
       "      <td>-0.925605</td>\n",
       "      <td>5</td>\n",
       "      <td>-0.670120</td>\n",
       "      <td>-0.378680</td>\n",
       "      <td>1</td>\n",
       "      <td>-0.392911</td>\n",
       "      <td>0.311901</td>\n",
       "      <td>0</td>\n",
       "      <td>0</td>\n",
       "      <td>0</td>\n",
       "      <td>0</td>\n",
       "      <td>1</td>\n",
       "      <td>0</td>\n",
       "      <td>0</td>\n",
       "      <td>1</td>\n",
       "      <td>1</td>\n",
       "      <td>0</td>\n",
       "    </tr>\n",
       "    <tr>\n",
       "      <th>1</th>\n",
       "      <td>1.697108</td>\n",
       "      <td>3</td>\n",
       "      <td>-0.173246</td>\n",
       "      <td>0.273631</td>\n",
       "      <td>2</td>\n",
       "      <td>-0.638968</td>\n",
       "      <td>0.532606</td>\n",
       "      <td>1</td>\n",
       "      <td>0</td>\n",
       "      <td>0</td>\n",
       "      <td>0</td>\n",
       "      <td>0</td>\n",
       "      <td>0</td>\n",
       "      <td>0</td>\n",
       "      <td>1</td>\n",
       "      <td>1</td>\n",
       "      <td>0</td>\n",
       "    </tr>\n",
       "    <tr>\n",
       "      <th>2</th>\n",
       "      <td>-1.799843</td>\n",
       "      <td>5</td>\n",
       "      <td>1.379486</td>\n",
       "      <td>-0.378680</td>\n",
       "      <td>2</td>\n",
       "      <td>-0.454426</td>\n",
       "      <td>-1.585178</td>\n",
       "      <td>0</td>\n",
       "      <td>0</td>\n",
       "      <td>0</td>\n",
       "      <td>1</td>\n",
       "      <td>0</td>\n",
       "      <td>0</td>\n",
       "      <td>0</td>\n",
       "      <td>1</td>\n",
       "      <td>0</td>\n",
       "      <td>1</td>\n",
       "    </tr>\n",
       "    <tr>\n",
       "      <th>3</th>\n",
       "      <td>0.822870</td>\n",
       "      <td>5</td>\n",
       "      <td>0.178707</td>\n",
       "      <td>-1.030992</td>\n",
       "      <td>2</td>\n",
       "      <td>-0.577454</td>\n",
       "      <td>0.406052</td>\n",
       "      <td>0</td>\n",
       "      <td>0</td>\n",
       "      <td>1</td>\n",
       "      <td>0</td>\n",
       "      <td>0</td>\n",
       "      <td>0</td>\n",
       "      <td>0</td>\n",
       "      <td>1</td>\n",
       "      <td>0</td>\n",
       "      <td>1</td>\n",
       "    </tr>\n",
       "    <tr>\n",
       "      <th>4</th>\n",
       "      <td>1.697108</td>\n",
       "      <td>3</td>\n",
       "      <td>1.772845</td>\n",
       "      <td>0.273631</td>\n",
       "      <td>1</td>\n",
       "      <td>-0.577454</td>\n",
       "      <td>-1.207352</td>\n",
       "      <td>0</td>\n",
       "      <td>0</td>\n",
       "      <td>1</td>\n",
       "      <td>0</td>\n",
       "      <td>0</td>\n",
       "      <td>1</td>\n",
       "      <td>0</td>\n",
       "      <td>0</td>\n",
       "      <td>1</td>\n",
       "      <td>0</td>\n",
       "    </tr>\n",
       "  </tbody>\n",
       "</table>\n",
       "</div>"
      ],
      "text/plain": [
       "   Customer_care_calls  Customer_rating  Cost_of_the_Product  Prior_purchases  \\\n",
       "0            -0.925605                5            -0.670120        -0.378680   \n",
       "1             1.697108                3            -0.173246         0.273631   \n",
       "2            -1.799843                5             1.379486        -0.378680   \n",
       "3             0.822870                5             0.178707        -1.030992   \n",
       "4             1.697108                3             1.772845         0.273631   \n",
       "\n",
       "   Product_importance  Discount_offered  Weight_in_gms  Warehouse_block_A  \\\n",
       "0                   1         -0.392911       0.311901                  0   \n",
       "1                   2         -0.638968       0.532606                  1   \n",
       "2                   2         -0.454426      -1.585178                  0   \n",
       "3                   2         -0.577454       0.406052                  0   \n",
       "4                   1         -0.577454      -1.207352                  0   \n",
       "\n",
       "   Warehouse_block_B  Warehouse_block_C  Warehouse_block_D  Warehouse_block_F  \\\n",
       "0                  0                  0                  0                  1   \n",
       "1                  0                  0                  0                  0   \n",
       "2                  0                  0                  1                  0   \n",
       "3                  0                  1                  0                  0   \n",
       "4                  0                  1                  0                  0   \n",
       "\n",
       "   Mode_of_Shipment_Flight  Mode_of_Shipment_Road  Mode_of_Shipment_Ship  \\\n",
       "0                        0                      0                      1   \n",
       "1                        0                      0                      1   \n",
       "2                        0                      0                      1   \n",
       "3                        0                      0                      1   \n",
       "4                        1                      0                      0   \n",
       "\n",
       "   Gender_F  Gender_M  \n",
       "0         1         0  \n",
       "1         1         0  \n",
       "2         0         1  \n",
       "3         0         1  \n",
       "4         1         0  "
      ]
     },
     "execution_count": 5,
     "metadata": {},
     "output_type": "execute_result"
    }
   ],
   "source": [
    "X_train.head()"
   ]
  },
  {
   "cell_type": "code",
   "execution_count": 6,
   "id": "e997c49b",
   "metadata": {},
   "outputs": [
    {
     "data": {
      "text/html": [
       "<div>\n",
       "<style scoped>\n",
       "    .dataframe tbody tr th:only-of-type {\n",
       "        vertical-align: middle;\n",
       "    }\n",
       "\n",
       "    .dataframe tbody tr th {\n",
       "        vertical-align: top;\n",
       "    }\n",
       "\n",
       "    .dataframe thead th {\n",
       "        text-align: right;\n",
       "    }\n",
       "</style>\n",
       "<table border=\"1\" class=\"dataframe\">\n",
       "  <thead>\n",
       "    <tr style=\"text-align: right;\">\n",
       "      <th></th>\n",
       "      <th>Customer_care_calls</th>\n",
       "      <th>Customer_rating</th>\n",
       "      <th>Cost_of_the_Product</th>\n",
       "      <th>Prior_purchases</th>\n",
       "      <th>Product_importance</th>\n",
       "      <th>Discount_offered</th>\n",
       "      <th>Weight_in_gms</th>\n",
       "      <th>Warehouse_block_A</th>\n",
       "      <th>Warehouse_block_B</th>\n",
       "      <th>Warehouse_block_C</th>\n",
       "      <th>Warehouse_block_D</th>\n",
       "      <th>Warehouse_block_F</th>\n",
       "      <th>Mode_of_Shipment_Flight</th>\n",
       "      <th>Mode_of_Shipment_Road</th>\n",
       "      <th>Mode_of_Shipment_Ship</th>\n",
       "      <th>Gender_F</th>\n",
       "      <th>Gender_M</th>\n",
       "    </tr>\n",
       "  </thead>\n",
       "  <tbody>\n",
       "    <tr>\n",
       "      <th>0</th>\n",
       "      <td>-0.051367</td>\n",
       "      <td>2</td>\n",
       "      <td>1.213861</td>\n",
       "      <td>-1.030992</td>\n",
       "      <td>2</td>\n",
       "      <td>-0.700483</td>\n",
       "      <td>0.237314</td>\n",
       "      <td>0</td>\n",
       "      <td>0</td>\n",
       "      <td>0</td>\n",
       "      <td>1</td>\n",
       "      <td>0</td>\n",
       "      <td>0</td>\n",
       "      <td>1</td>\n",
       "      <td>0</td>\n",
       "      <td>1</td>\n",
       "      <td>0</td>\n",
       "    </tr>\n",
       "    <tr>\n",
       "      <th>1</th>\n",
       "      <td>-0.051367</td>\n",
       "      <td>2</td>\n",
       "      <td>-0.421683</td>\n",
       "      <td>-0.378680</td>\n",
       "      <td>2</td>\n",
       "      <td>-0.392911</td>\n",
       "      <td>0.697675</td>\n",
       "      <td>1</td>\n",
       "      <td>0</td>\n",
       "      <td>0</td>\n",
       "      <td>0</td>\n",
       "      <td>0</td>\n",
       "      <td>0</td>\n",
       "      <td>1</td>\n",
       "      <td>0</td>\n",
       "      <td>0</td>\n",
       "      <td>1</td>\n",
       "    </tr>\n",
       "    <tr>\n",
       "      <th>2</th>\n",
       "      <td>-0.051367</td>\n",
       "      <td>1</td>\n",
       "      <td>-0.297464</td>\n",
       "      <td>-1.030992</td>\n",
       "      <td>1</td>\n",
       "      <td>-0.638968</td>\n",
       "      <td>0.689116</td>\n",
       "      <td>0</td>\n",
       "      <td>0</td>\n",
       "      <td>0</td>\n",
       "      <td>1</td>\n",
       "      <td>0</td>\n",
       "      <td>0</td>\n",
       "      <td>0</td>\n",
       "      <td>1</td>\n",
       "      <td>0</td>\n",
       "      <td>1</td>\n",
       "    </tr>\n",
       "    <tr>\n",
       "      <th>3</th>\n",
       "      <td>-0.925605</td>\n",
       "      <td>3</td>\n",
       "      <td>-0.152543</td>\n",
       "      <td>-0.378680</td>\n",
       "      <td>2</td>\n",
       "      <td>-0.392911</td>\n",
       "      <td>0.826674</td>\n",
       "      <td>0</td>\n",
       "      <td>0</td>\n",
       "      <td>0</td>\n",
       "      <td>1</td>\n",
       "      <td>0</td>\n",
       "      <td>1</td>\n",
       "      <td>0</td>\n",
       "      <td>0</td>\n",
       "      <td>0</td>\n",
       "      <td>1</td>\n",
       "    </tr>\n",
       "    <tr>\n",
       "      <th>4</th>\n",
       "      <td>0.822870</td>\n",
       "      <td>5</td>\n",
       "      <td>0.779096</td>\n",
       "      <td>0.925943</td>\n",
       "      <td>2</td>\n",
       "      <td>-0.331397</td>\n",
       "      <td>-1.066126</td>\n",
       "      <td>1</td>\n",
       "      <td>0</td>\n",
       "      <td>0</td>\n",
       "      <td>0</td>\n",
       "      <td>0</td>\n",
       "      <td>1</td>\n",
       "      <td>0</td>\n",
       "      <td>0</td>\n",
       "      <td>0</td>\n",
       "      <td>1</td>\n",
       "    </tr>\n",
       "  </tbody>\n",
       "</table>\n",
       "</div>"
      ],
      "text/plain": [
       "   Customer_care_calls  Customer_rating  Cost_of_the_Product  Prior_purchases  \\\n",
       "0            -0.051367                2             1.213861        -1.030992   \n",
       "1            -0.051367                2            -0.421683        -0.378680   \n",
       "2            -0.051367                1            -0.297464        -1.030992   \n",
       "3            -0.925605                3            -0.152543        -0.378680   \n",
       "4             0.822870                5             0.779096         0.925943   \n",
       "\n",
       "   Product_importance  Discount_offered  Weight_in_gms  Warehouse_block_A  \\\n",
       "0                   2         -0.700483       0.237314                  0   \n",
       "1                   2         -0.392911       0.697675                  1   \n",
       "2                   1         -0.638968       0.689116                  0   \n",
       "3                   2         -0.392911       0.826674                  0   \n",
       "4                   2         -0.331397      -1.066126                  1   \n",
       "\n",
       "   Warehouse_block_B  Warehouse_block_C  Warehouse_block_D  Warehouse_block_F  \\\n",
       "0                  0                  0                  1                  0   \n",
       "1                  0                  0                  0                  0   \n",
       "2                  0                  0                  1                  0   \n",
       "3                  0                  0                  1                  0   \n",
       "4                  0                  0                  0                  0   \n",
       "\n",
       "   Mode_of_Shipment_Flight  Mode_of_Shipment_Road  Mode_of_Shipment_Ship  \\\n",
       "0                        0                      1                      0   \n",
       "1                        0                      1                      0   \n",
       "2                        0                      0                      1   \n",
       "3                        1                      0                      0   \n",
       "4                        1                      0                      0   \n",
       "\n",
       "   Gender_F  Gender_M  \n",
       "0         1         0  \n",
       "1         0         1  \n",
       "2         0         1  \n",
       "3         0         1  \n",
       "4         0         1  "
      ]
     },
     "execution_count": 6,
     "metadata": {},
     "output_type": "execute_result"
    }
   ],
   "source": [
    "X_val.head()"
   ]
  },
  {
   "cell_type": "markdown",
   "id": "413c1685",
   "metadata": {},
   "source": [
    "## Model 1: Logistic Regression\n",
    "\n",
    "A simple Logistic Regression is used to establish a baseline performance. \n",
    "Default parameter values are used.\n",
    "\n",
    "### Model 1: Create, Train Model"
   ]
  },
  {
   "cell_type": "code",
   "execution_count": 7,
   "id": "4ae31e9d",
   "metadata": {},
   "outputs": [
    {
     "data": {
      "text/html": [
       "<style>#sk-container-id-1 {color: black;background-color: white;}#sk-container-id-1 pre{padding: 0;}#sk-container-id-1 div.sk-toggleable {background-color: white;}#sk-container-id-1 label.sk-toggleable__label {cursor: pointer;display: block;width: 100%;margin-bottom: 0;padding: 0.3em;box-sizing: border-box;text-align: center;}#sk-container-id-1 label.sk-toggleable__label-arrow:before {content: \"▸\";float: left;margin-right: 0.25em;color: #696969;}#sk-container-id-1 label.sk-toggleable__label-arrow:hover:before {color: black;}#sk-container-id-1 div.sk-estimator:hover label.sk-toggleable__label-arrow:before {color: black;}#sk-container-id-1 div.sk-toggleable__content {max-height: 0;max-width: 0;overflow: hidden;text-align: left;background-color: #f0f8ff;}#sk-container-id-1 div.sk-toggleable__content pre {margin: 0.2em;color: black;border-radius: 0.25em;background-color: #f0f8ff;}#sk-container-id-1 input.sk-toggleable__control:checked~div.sk-toggleable__content {max-height: 200px;max-width: 100%;overflow: auto;}#sk-container-id-1 input.sk-toggleable__control:checked~label.sk-toggleable__label-arrow:before {content: \"▾\";}#sk-container-id-1 div.sk-estimator input.sk-toggleable__control:checked~label.sk-toggleable__label {background-color: #d4ebff;}#sk-container-id-1 div.sk-label input.sk-toggleable__control:checked~label.sk-toggleable__label {background-color: #d4ebff;}#sk-container-id-1 input.sk-hidden--visually {border: 0;clip: rect(1px 1px 1px 1px);clip: rect(1px, 1px, 1px, 1px);height: 1px;margin: -1px;overflow: hidden;padding: 0;position: absolute;width: 1px;}#sk-container-id-1 div.sk-estimator {font-family: monospace;background-color: #f0f8ff;border: 1px dotted black;border-radius: 0.25em;box-sizing: border-box;margin-bottom: 0.5em;}#sk-container-id-1 div.sk-estimator:hover {background-color: #d4ebff;}#sk-container-id-1 div.sk-parallel-item::after {content: \"\";width: 100%;border-bottom: 1px solid gray;flex-grow: 1;}#sk-container-id-1 div.sk-label:hover label.sk-toggleable__label {background-color: #d4ebff;}#sk-container-id-1 div.sk-serial::before {content: \"\";position: absolute;border-left: 1px solid gray;box-sizing: border-box;top: 0;bottom: 0;left: 50%;z-index: 0;}#sk-container-id-1 div.sk-serial {display: flex;flex-direction: column;align-items: center;background-color: white;padding-right: 0.2em;padding-left: 0.2em;position: relative;}#sk-container-id-1 div.sk-item {position: relative;z-index: 1;}#sk-container-id-1 div.sk-parallel {display: flex;align-items: stretch;justify-content: center;background-color: white;position: relative;}#sk-container-id-1 div.sk-item::before, #sk-container-id-1 div.sk-parallel-item::before {content: \"\";position: absolute;border-left: 1px solid gray;box-sizing: border-box;top: 0;bottom: 0;left: 50%;z-index: -1;}#sk-container-id-1 div.sk-parallel-item {display: flex;flex-direction: column;z-index: 1;position: relative;background-color: white;}#sk-container-id-1 div.sk-parallel-item:first-child::after {align-self: flex-end;width: 50%;}#sk-container-id-1 div.sk-parallel-item:last-child::after {align-self: flex-start;width: 50%;}#sk-container-id-1 div.sk-parallel-item:only-child::after {width: 0;}#sk-container-id-1 div.sk-dashed-wrapped {border: 1px dashed gray;margin: 0 0.4em 0.5em 0.4em;box-sizing: border-box;padding-bottom: 0.4em;background-color: white;}#sk-container-id-1 div.sk-label label {font-family: monospace;font-weight: bold;display: inline-block;line-height: 1.2em;}#sk-container-id-1 div.sk-label-container {text-align: center;}#sk-container-id-1 div.sk-container {/* jupyter's `normalize.less` sets `[hidden] { display: none; }` but bootstrap.min.css set `[hidden] { display: none !important; }` so we also need the `!important` here to be able to override the default hidden behavior on the sphinx rendered scikit-learn.org. See: https://github.com/scikit-learn/scikit-learn/issues/21755 */display: inline-block !important;position: relative;}#sk-container-id-1 div.sk-text-repr-fallback {display: none;}</style><div id=\"sk-container-id-1\" class=\"sk-top-container\"><div class=\"sk-text-repr-fallback\"><pre>LogisticRegression(random_state=0, solver=&#x27;liblinear&#x27;)</pre><b>In a Jupyter environment, please rerun this cell to show the HTML representation or trust the notebook. <br />On GitHub, the HTML representation is unable to render, please try loading this page with nbviewer.org.</b></div><div class=\"sk-container\" hidden><div class=\"sk-item\"><div class=\"sk-estimator sk-toggleable\"><input class=\"sk-toggleable__control sk-hidden--visually\" id=\"sk-estimator-id-1\" type=\"checkbox\" checked><label for=\"sk-estimator-id-1\" class=\"sk-toggleable__label sk-toggleable__label-arrow\">LogisticRegression</label><div class=\"sk-toggleable__content\"><pre>LogisticRegression(random_state=0, solver=&#x27;liblinear&#x27;)</pre></div></div></div></div></div>"
      ],
      "text/plain": [
       "LogisticRegression(random_state=0, solver='liblinear')"
      ]
     },
     "execution_count": 7,
     "metadata": {},
     "output_type": "execute_result"
    }
   ],
   "source": [
    "# create model instance\n",
    "model1 = []\n",
    "model1 = LogisticRegression(solver='liblinear', random_state=0)\n",
    "\n",
    "#fit the model using the training data\n",
    "model1.fit(X_train, y_train)\n"
   ]
  },
  {
   "cell_type": "markdown",
   "id": "8cb1b8d0",
   "metadata": {},
   "source": [
    "### Model 1: Describe/Visualize Model"
   ]
  },
  {
   "cell_type": "code",
   "execution_count": 8,
   "id": "678c57ad",
   "metadata": {},
   "outputs": [
    {
     "data": {
      "text/html": [
       "<div>\n",
       "<style scoped>\n",
       "    .dataframe tbody tr th:only-of-type {\n",
       "        vertical-align: middle;\n",
       "    }\n",
       "\n",
       "    .dataframe tbody tr th {\n",
       "        vertical-align: top;\n",
       "    }\n",
       "\n",
       "    .dataframe thead th {\n",
       "        text-align: right;\n",
       "    }\n",
       "</style>\n",
       "<table border=\"1\" class=\"dataframe\">\n",
       "  <thead>\n",
       "    <tr style=\"text-align: right;\">\n",
       "      <th></th>\n",
       "      <th>coef</th>\n",
       "    </tr>\n",
       "    <tr>\n",
       "      <th>features</th>\n",
       "      <th></th>\n",
       "    </tr>\n",
       "  </thead>\n",
       "  <tbody>\n",
       "    <tr>\n",
       "      <th>Weight_in_gms</th>\n",
       "      <td>-0.380287</td>\n",
       "    </tr>\n",
       "    <tr>\n",
       "      <th>Customer_care_calls</th>\n",
       "      <td>-0.127812</td>\n",
       "    </tr>\n",
       "    <tr>\n",
       "      <th>Prior_purchases</th>\n",
       "      <td>-0.122080</td>\n",
       "    </tr>\n",
       "    <tr>\n",
       "      <th>Cost_of_the_Product</th>\n",
       "      <td>-0.109246</td>\n",
       "    </tr>\n",
       "    <tr>\n",
       "      <th>Product_importance</th>\n",
       "      <td>-0.096254</td>\n",
       "    </tr>\n",
       "    <tr>\n",
       "      <th>Customer_rating</th>\n",
       "      <td>0.022963</td>\n",
       "    </tr>\n",
       "    <tr>\n",
       "      <th>Warehouse_block_A</th>\n",
       "      <td>0.027294</td>\n",
       "    </tr>\n",
       "    <tr>\n",
       "      <th>Warehouse_block_D</th>\n",
       "      <td>0.091684</td>\n",
       "    </tr>\n",
       "    <tr>\n",
       "      <th>Warehouse_block_F</th>\n",
       "      <td>0.099142</td>\n",
       "    </tr>\n",
       "    <tr>\n",
       "      <th>Warehouse_block_C</th>\n",
       "      <td>0.133640</td>\n",
       "    </tr>\n",
       "    <tr>\n",
       "      <th>Warehouse_block_B</th>\n",
       "      <td>0.138702</td>\n",
       "    </tr>\n",
       "    <tr>\n",
       "      <th>Mode_of_Shipment_Road</th>\n",
       "      <td>0.142091</td>\n",
       "    </tr>\n",
       "    <tr>\n",
       "      <th>Mode_of_Shipment_Ship</th>\n",
       "      <td>0.160484</td>\n",
       "    </tr>\n",
       "    <tr>\n",
       "      <th>Mode_of_Shipment_Flight</th>\n",
       "      <td>0.187887</td>\n",
       "    </tr>\n",
       "    <tr>\n",
       "      <th>Gender_F</th>\n",
       "      <td>0.224526</td>\n",
       "    </tr>\n",
       "    <tr>\n",
       "      <th>Gender_M</th>\n",
       "      <td>0.265936</td>\n",
       "    </tr>\n",
       "    <tr>\n",
       "      <th>Discount_offered</th>\n",
       "      <td>1.787787</td>\n",
       "    </tr>\n",
       "  </tbody>\n",
       "</table>\n",
       "</div>"
      ],
      "text/plain": [
       "                             coef\n",
       "features                         \n",
       "Weight_in_gms           -0.380287\n",
       "Customer_care_calls     -0.127812\n",
       "Prior_purchases         -0.122080\n",
       "Cost_of_the_Product     -0.109246\n",
       "Product_importance      -0.096254\n",
       "Customer_rating          0.022963\n",
       "Warehouse_block_A        0.027294\n",
       "Warehouse_block_D        0.091684\n",
       "Warehouse_block_F        0.099142\n",
       "Warehouse_block_C        0.133640\n",
       "Warehouse_block_B        0.138702\n",
       "Mode_of_Shipment_Road    0.142091\n",
       "Mode_of_Shipment_Ship    0.160484\n",
       "Mode_of_Shipment_Flight  0.187887\n",
       "Gender_F                 0.224526\n",
       "Gender_M                 0.265936\n",
       "Discount_offered         1.787787"
      ]
     },
     "execution_count": 8,
     "metadata": {},
     "output_type": "execute_result"
    }
   ],
   "source": [
    "model1_featcoeff = pd.DataFrame({ 'features': model1.feature_names_in_,\n",
    "                                  'coef' : np.ravel(model1.coef_)})\n",
    "\n",
    "model1_featcoeff.set_index('features').sort_values('coef')"
   ]
  },
  {
   "cell_type": "markdown",
   "id": "cbbcb719",
   "metadata": {},
   "source": [
    "Holding other features constant, **Discount_offered** contributes the most to timely arrival of shipments while **Weight_in_gms** contributes the most to late arrival. This is consistent with our EDA analysis (section 'General Correlation between Variables')"
   ]
  },
  {
   "cell_type": "markdown",
   "id": "c1533fdf",
   "metadata": {},
   "source": [
    "### Model 1: Performance on Validation Set"
   ]
  },
  {
   "cell_type": "code",
   "execution_count": 10,
   "id": "100cf861",
   "metadata": {},
   "outputs": [],
   "source": [
    "# predict y values based on the validation set\n",
    "y_pred1 = model1.predict(X_val)"
   ]
  },
  {
   "cell_type": "code",
   "execution_count": 12,
   "id": "f6d6f374",
   "metadata": {},
   "outputs": [
    {
     "data": {
      "image/png": "[encoded data removed]",
      "text/plain": [
       "<Figure size 640x480 with 2 Axes>"
      ]
     },
     "metadata": {},
     "output_type": "display_data"
    }
   ],
   "source": [
    "# generate confusion matrix for model1\n",
    "aai510_grp7_confusion_matrix(y_true = y_val, y_pred = y_pred1, title = 'Model 1: Simple Logistic Regression')"
   ]
  },
  {
   "cell_type": "code",
   "execution_count": 15,
   "id": "74784843",
   "metadata": {},
   "outputs": [
    {
     "name": "stdout",
     "output_type": "stream",
     "text": [
      "              precision    recall  f1-score   support\n",
      "\n",
      "        LATE       0.56      0.53      0.54       445\n",
      "     ON-TIME       0.69      0.71      0.70       655\n",
      "\n",
      "    accuracy                           0.64      1100\n",
      "   macro avg       0.62      0.62      0.62      1100\n",
      "weighted avg       0.64      0.64      0.64      1100\n",
      "\n",
      "Model 1: Simple Logistic Regression\n"
     ]
    }
   ],
   "source": [
    "# Generate Classification Report for model 1\n",
    "aai510_grp7_class_report(y_true = y_val, y_pred = y_pred1, title = 'Model 1: Simple Logistic Regression')\n",
    "    "
   ]
  },
  {
   "cell_type": "markdown",
   "id": "d2c2639c",
   "metadata": {},
   "source": [
    "## Model 2: K Nearest Neighbor\n",
    "\n",
    "....\n",
    "\n",
    "### Model 2: Create, train, evaluate as many KNN models as there are K-values"
   ]
  },
  {
   "cell_type": "code",
   "execution_count": 16,
   "id": "c3d3d641",
   "metadata": {},
   "outputs": [],
   "source": [
    "from sklearn.neighbors import KNeighborsClassifier\n",
    "from sklearn.metrics import accuracy_score"
   ]
  },
  {
   "cell_type": "code",
   "execution_count": 17,
   "id": "ebbb9a88",
   "metadata": {},
   "outputs": [],
   "source": [
    "k_values = list(range(1, 20))\n",
    "acc_train = []\n",
    "acc_val = []\n",
    "\n",
    "for k in k_values:\n",
    "    knn = KNeighborsClassifier(n_neighbors=k)\n",
    "    \n",
    "    knn.fit(X_train, y_train)\n",
    "    \n",
    "    y_pred_train = knn.predict(X_train)\n",
    "    \n",
    "    y_pred_val = knn.predict(X_val)\n",
    "    \n",
    "    acc_train.append(accuracy_score(y_train, y_pred_train))\n",
    "    acc_val.append(accuracy_score(y_val, y_pred_val))"
   ]
  },
  {
   "cell_type": "code",
   "execution_count": 18,
   "id": "4aa28889",
   "metadata": {},
   "outputs": [
    {
     "data": {
      "text/plain": [
       "<matplotlib.legend.Legend at 0x16925c350>"
      ]
     },
     "execution_count": 18,
     "metadata": {},
     "output_type": "execute_result"
    },
    {
     "data": {
      "image/png": "[encoded data removed]",
      "text/plain": [
       "<Figure size 640x480 with 1 Axes>"
      ]
     },
     "metadata": {},
     "output_type": "display_data"
    }
   ],
   "source": [
    "plt.plot(k_values, acc_train, label = 'Train Accuracy')\n",
    "plt.plot(k_values, acc_val, label = 'Val Accuracy')\n",
    "plt.legend()\n"
   ]
  },
  {
   "cell_type": "code",
   "execution_count": 19,
   "id": "9bc0bad6",
   "metadata": {},
   "outputs": [
    {
     "data": {
      "text/plain": [
       "9"
      ]
     },
     "execution_count": 19,
     "metadata": {},
     "output_type": "execute_result"
    }
   ],
   "source": [
    "# select k_value with highest Validation accuracy\n",
    "\n",
    "k_best = acc_val.index(max(acc_val))\n",
    "k_best"
   ]
  },
  {
   "cell_type": "code",
   "execution_count": 20,
   "id": "918d31f6",
   "metadata": {},
   "outputs": [
    {
     "data": {
      "text/plain": [
       "11"
      ]
     },
     "execution_count": 20,
     "metadata": {},
     "output_type": "execute_result"
    }
   ],
   "source": [
    "# select another k_value with least overfitting\n",
    "delta = np.subtract(acc_train, acc_val)\n",
    "k_best2 = delta.argmin()\n",
    "k_best2"
   ]
  },
  {
   "cell_type": "code",
   "execution_count": 21,
   "id": "40525b61",
   "metadata": {},
   "outputs": [
    {
     "data": {
      "text/html": [
       "<style>#sk-container-id-2 {color: black;background-color: white;}#sk-container-id-2 pre{padding: 0;}#sk-container-id-2 div.sk-toggleable {background-color: white;}#sk-container-id-2 label.sk-toggleable__label {cursor: pointer;display: block;width: 100%;margin-bottom: 0;padding: 0.3em;box-sizing: border-box;text-align: center;}#sk-container-id-2 label.sk-toggleable__label-arrow:before {content: \"▸\";float: left;margin-right: 0.25em;color: #696969;}#sk-container-id-2 label.sk-toggleable__label-arrow:hover:before {color: black;}#sk-container-id-2 div.sk-estimator:hover label.sk-toggleable__label-arrow:before {color: black;}#sk-container-id-2 div.sk-toggleable__content {max-height: 0;max-width: 0;overflow: hidden;text-align: left;background-color: #f0f8ff;}#sk-container-id-2 div.sk-toggleable__content pre {margin: 0.2em;color: black;border-radius: 0.25em;background-color: #f0f8ff;}#sk-container-id-2 input.sk-toggleable__control:checked~div.sk-toggleable__content {max-height: 200px;max-width: 100%;overflow: auto;}#sk-container-id-2 input.sk-toggleable__control:checked~label.sk-toggleable__label-arrow:before {content: \"▾\";}#sk-container-id-2 div.sk-estimator input.sk-toggleable__control:checked~label.sk-toggleable__label {background-color: #d4ebff;}#sk-container-id-2 div.sk-label input.sk-toggleable__control:checked~label.sk-toggleable__label {background-color: #d4ebff;}#sk-container-id-2 input.sk-hidden--visually {border: 0;clip: rect(1px 1px 1px 1px);clip: rect(1px, 1px, 1px, 1px);height: 1px;margin: -1px;overflow: hidden;padding: 0;position: absolute;width: 1px;}#sk-container-id-2 div.sk-estimator {font-family: monospace;background-color: #f0f8ff;border: 1px dotted black;border-radius: 0.25em;box-sizing: border-box;margin-bottom: 0.5em;}#sk-container-id-2 div.sk-estimator:hover {background-color: #d4ebff;}#sk-container-id-2 div.sk-parallel-item::after {content: \"\";width: 100%;border-bottom: 1px solid gray;flex-grow: 1;}#sk-container-id-2 div.sk-label:hover label.sk-toggleable__label {background-color: #d4ebff;}#sk-container-id-2 div.sk-serial::before {content: \"\";position: absolute;border-left: 1px solid gray;box-sizing: border-box;top: 0;bottom: 0;left: 50%;z-index: 0;}#sk-container-id-2 div.sk-serial {display: flex;flex-direction: column;align-items: center;background-color: white;padding-right: 0.2em;padding-left: 0.2em;position: relative;}#sk-container-id-2 div.sk-item {position: relative;z-index: 1;}#sk-container-id-2 div.sk-parallel {display: flex;align-items: stretch;justify-content: center;background-color: white;position: relative;}#sk-container-id-2 div.sk-item::before, #sk-container-id-2 div.sk-parallel-item::before {content: \"\";position: absolute;border-left: 1px solid gray;box-sizing: border-box;top: 0;bottom: 0;left: 50%;z-index: -1;}#sk-container-id-2 div.sk-parallel-item {display: flex;flex-direction: column;z-index: 1;position: relative;background-color: white;}#sk-container-id-2 div.sk-parallel-item:first-child::after {align-self: flex-end;width: 50%;}#sk-container-id-2 div.sk-parallel-item:last-child::after {align-self: flex-start;width: 50%;}#sk-container-id-2 div.sk-parallel-item:only-child::after {width: 0;}#sk-container-id-2 div.sk-dashed-wrapped {border: 1px dashed gray;margin: 0 0.4em 0.5em 0.4em;box-sizing: border-box;padding-bottom: 0.4em;background-color: white;}#sk-container-id-2 div.sk-label label {font-family: monospace;font-weight: bold;display: inline-block;line-height: 1.2em;}#sk-container-id-2 div.sk-label-container {text-align: center;}#sk-container-id-2 div.sk-container {/* jupyter's `normalize.less` sets `[hidden] { display: none; }` but bootstrap.min.css set `[hidden] { display: none !important; }` so we also need the `!important` here to be able to override the default hidden behavior on the sphinx rendered scikit-learn.org. See: https://github.com/scikit-learn/scikit-learn/issues/21755 */display: inline-block !important;position: relative;}#sk-container-id-2 div.sk-text-repr-fallback {display: none;}</style><div id=\"sk-container-id-2\" class=\"sk-top-container\"><div class=\"sk-text-repr-fallback\"><pre>KNeighborsClassifier(n_neighbors=9)</pre><b>In a Jupyter environment, please rerun this cell to show the HTML representation or trust the notebook. <br />On GitHub, the HTML representation is unable to render, please try loading this page with nbviewer.org.</b></div><div class=\"sk-container\" hidden><div class=\"sk-item\"><div class=\"sk-estimator sk-toggleable\"><input class=\"sk-toggleable__control sk-hidden--visually\" id=\"sk-estimator-id-2\" type=\"checkbox\" checked><label for=\"sk-estimator-id-2\" class=\"sk-toggleable__label sk-toggleable__label-arrow\">KNeighborsClassifier</label><div class=\"sk-toggleable__content\"><pre>KNeighborsClassifier(n_neighbors=9)</pre></div></div></div></div></div>"
      ],
      "text/plain": [
       "KNeighborsClassifier(n_neighbors=9)"
      ]
     },
     "execution_count": 21,
     "metadata": {},
     "output_type": "execute_result"
    }
   ],
   "source": [
    "# generate kNN model (again) using n_neighbors that gave the highest validation accuraxy\n",
    "\n",
    "model2 = KNeighborsClassifier(n_neighbors=k_best)\n",
    "    \n",
    "model2.fit(X_train, y_train)"
   ]
  },
  {
   "cell_type": "markdown",
   "id": "5f78fb5a",
   "metadata": {},
   "source": [
    "### Model 2: Performance on Validation Set"
   ]
  },
  {
   "cell_type": "code",
   "execution_count": 22,
   "id": "20021c32",
   "metadata": {},
   "outputs": [
    {
     "data": {
      "text/plain": [
       "array([0, 0, 0, ..., 0, 0, 1])"
      ]
     },
     "execution_count": 22,
     "metadata": {},
     "output_type": "execute_result"
    }
   ],
   "source": [
    "# predict y values based on the validation set\n",
    "y_pred2 = model2.predict(X_val)\n",
    "y_pred2"
   ]
  },
  {
   "cell_type": "code",
   "execution_count": 24,
   "id": "48a58768",
   "metadata": {},
   "outputs": [
    {
     "data": {
      "image/png": "[encoded data removed]",
      "text/plain": [
       "<Figure size 640x480 with 2 Axes>"
      ]
     },
     "metadata": {},
     "output_type": "display_data"
    }
   ],
   "source": [
    "# generate confusion matrix for model2\n",
    "aai510_grp7_confusion_matrix(y_true = y_val, y_pred = y_pred2, title = 'Model 2: KNN with k=9')"
   ]
  },
  {
   "cell_type": "code",
   "execution_count": 25,
   "id": "16a3e546",
   "metadata": {},
   "outputs": [
    {
     "name": "stdout",
     "output_type": "stream",
     "text": [
      "              precision    recall  f1-score   support\n",
      "\n",
      "        LATE       0.56      0.63      0.59       445\n",
      "     ON-TIME       0.72      0.66      0.69       655\n",
      "\n",
      "    accuracy                           0.65      1100\n",
      "   macro avg       0.64      0.65      0.64      1100\n",
      "weighted avg       0.66      0.65      0.65      1100\n",
      "\n",
      "Model 2: KNN with k=9\n"
     ]
    }
   ],
   "source": [
    "# Generate Classification Report for model 2\n",
    "aai510_grp7_class_report(y_true = y_val, y_pred = y_pred2, title = 'Model 2: KNN with k=9')"
   ]
  },
  {
   "cell_type": "code",
   "execution_count": null,
   "id": "798879b5",
   "metadata": {},
   "outputs": [],
   "source": []
  }
 ],
 "metadata": {
  "kernelspec": {
   "display_name": "Python 3 (ipykernel)",
   "language": "python",
   "name": "python3"
  },
  "language_info": {
   "codemirror_mode": {
    "name": "ipython",
    "version": 3
   },
   "file_extension": ".py",
   "mimetype": "text/x-python",
   "name": "python",
   "nbconvert_exporter": "python",
   "pygments_lexer": "ipython3",
   "version": "3.11.5"
  }
 },
 "nbformat": 4,
 "nbformat_minor": 5
}
