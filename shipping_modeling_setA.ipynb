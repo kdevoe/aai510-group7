{
 "cells": [
  {
   "cell_type": "markdown",
   "id": "12f2d332",
   "metadata": {},
   "source": [
    "# Predicting On-time Delivery of Online Purchases\n",
    "## Part III-A: Modeling - Logistic Regression, X1, X2\n",
    "## AAI-510 Team 7 Final Project\n",
    "\n",
    "Team 7:  Ken Devoe, Tyler Foreman, Geoffrey Fadera\n",
    "\n",
    "University of San Diego, Applied Artificial Intelligence\n",
    "\n",
    "Date:  June 24, 2024\n",
    "\n",
    "GitHub Repository: https://github.com/kdevoe/aai510-group7"
   ]
  },
  {
   "cell_type": "markdown",
   "id": "4b9f13a8",
   "metadata": {},
   "source": [
    "## Imports"
   ]
  },
  {
   "cell_type": "code",
   "execution_count": 242,
   "id": "2bf7249a",
   "metadata": {},
   "outputs": [],
   "source": [
    "import pandas as pd\n",
    "import matplotlib.pyplot as plt\n",
    "import numpy as np\n",
    "import seaborn as sns\n",
    "from sklearn.linear_model import LogisticRegression\n",
    "from sklearn.metrics import classification_report, confusion_matrix"
   ]
  },
  {
   "cell_type": "markdown",
   "id": "3b6d8a1e",
   "metadata": {},
   "source": [
    "## Load Preprocessed Data"
   ]
  },
  {
   "cell_type": "code",
   "execution_count": 243,
   "id": "e4109360",
   "metadata": {},
   "outputs": [],
   "source": [
    "# train data\n",
    "X_train = pd.read_csv('./data/x_train.csv')\n",
    "y_train = np.ravel(pd.read_csv('./data/y_train.csv'))\n",
    "\n",
    "# val data\n",
    "X_val = pd.read_csv('./data/x_val.csv')\n",
    "y_val = np.ravel(pd.read_csv('./data/y_val.csv'))\n",
    "\n",
    "# test data\n",
    "X_test = pd.read_csv('./data/x_test.csv')\n",
    "y_test = np.ravel(pd.read_csv('./data/y_test.csv'))"
   ]
  },
  {
   "cell_type": "code",
   "execution_count": 244,
   "id": "934b6c19",
   "metadata": {},
   "outputs": [
    {
     "data": {
      "text/plain": [
       "(1100, 17)"
      ]
     },
     "execution_count": 244,
     "metadata": {},
     "output_type": "execute_result"
    }
   ],
   "source": [
    "X_val.shape"
   ]
  },
  {
   "cell_type": "code",
   "execution_count": 245,
   "id": "ecf70e72",
   "metadata": {},
   "outputs": [
    {
     "data": {
      "text/html": [
       "<div>\n",
       "<style scoped>\n",
       "    .dataframe tbody tr th:only-of-type {\n",
       "        vertical-align: middle;\n",
       "    }\n",
       "\n",
       "    .dataframe tbody tr th {\n",
       "        vertical-align: top;\n",
       "    }\n",
       "\n",
       "    .dataframe thead th {\n",
       "        text-align: right;\n",
       "    }\n",
       "</style>\n",
       "<table border=\"1\" class=\"dataframe\">\n",
       "  <thead>\n",
       "    <tr style=\"text-align: right;\">\n",
       "      <th></th>\n",
       "      <th>Customer_care_calls</th>\n",
       "      <th>Customer_rating</th>\n",
       "      <th>Cost_of_the_Product</th>\n",
       "      <th>Prior_purchases</th>\n",
       "      <th>Product_importance</th>\n",
       "      <th>Discount_offered</th>\n",
       "      <th>Weight_in_gms</th>\n",
       "      <th>Warehouse_block_A</th>\n",
       "      <th>Warehouse_block_B</th>\n",
       "      <th>Warehouse_block_C</th>\n",
       "      <th>Warehouse_block_D</th>\n",
       "      <th>Warehouse_block_F</th>\n",
       "      <th>Mode_of_Shipment_Flight</th>\n",
       "      <th>Mode_of_Shipment_Road</th>\n",
       "      <th>Mode_of_Shipment_Ship</th>\n",
       "      <th>Gender_F</th>\n",
       "      <th>Gender_M</th>\n",
       "    </tr>\n",
       "  </thead>\n",
       "  <tbody>\n",
       "    <tr>\n",
       "      <th>0</th>\n",
       "      <td>-0.923799</td>\n",
       "      <td>5</td>\n",
       "      <td>-0.669915</td>\n",
       "      <td>-0.372735</td>\n",
       "      <td>1</td>\n",
       "      <td>-0.393292</td>\n",
       "      <td>0.306355</td>\n",
       "      <td>0</td>\n",
       "      <td>0</td>\n",
       "      <td>0</td>\n",
       "      <td>0</td>\n",
       "      <td>1</td>\n",
       "      <td>0</td>\n",
       "      <td>0</td>\n",
       "      <td>1</td>\n",
       "      <td>1</td>\n",
       "      <td>0</td>\n",
       "    </tr>\n",
       "    <tr>\n",
       "      <th>1</th>\n",
       "      <td>1.704465</td>\n",
       "      <td>3</td>\n",
       "      <td>-0.170550</td>\n",
       "      <td>0.283954</td>\n",
       "      <td>2</td>\n",
       "      <td>-0.640133</td>\n",
       "      <td>0.527109</td>\n",
       "      <td>1</td>\n",
       "      <td>0</td>\n",
       "      <td>0</td>\n",
       "      <td>0</td>\n",
       "      <td>0</td>\n",
       "      <td>0</td>\n",
       "      <td>0</td>\n",
       "      <td>1</td>\n",
       "      <td>1</td>\n",
       "      <td>0</td>\n",
       "    </tr>\n",
       "    <tr>\n",
       "      <th>2</th>\n",
       "      <td>-1.799887</td>\n",
       "      <td>5</td>\n",
       "      <td>1.389964</td>\n",
       "      <td>-0.372735</td>\n",
       "      <td>2</td>\n",
       "      <td>-0.455002</td>\n",
       "      <td>-1.591153</td>\n",
       "      <td>0</td>\n",
       "      <td>0</td>\n",
       "      <td>0</td>\n",
       "      <td>1</td>\n",
       "      <td>0</td>\n",
       "      <td>0</td>\n",
       "      <td>0</td>\n",
       "      <td>1</td>\n",
       "      <td>0</td>\n",
       "      <td>1</td>\n",
       "    </tr>\n",
       "    <tr>\n",
       "      <th>3</th>\n",
       "      <td>0.828377</td>\n",
       "      <td>5</td>\n",
       "      <td>0.183166</td>\n",
       "      <td>-1.029424</td>\n",
       "      <td>2</td>\n",
       "      <td>-0.578423</td>\n",
       "      <td>0.400527</td>\n",
       "      <td>0</td>\n",
       "      <td>0</td>\n",
       "      <td>1</td>\n",
       "      <td>0</td>\n",
       "      <td>0</td>\n",
       "      <td>0</td>\n",
       "      <td>0</td>\n",
       "      <td>1</td>\n",
       "      <td>0</td>\n",
       "      <td>1</td>\n",
       "    </tr>\n",
       "    <tr>\n",
       "      <th>4</th>\n",
       "      <td>1.704465</td>\n",
       "      <td>3</td>\n",
       "      <td>1.785294</td>\n",
       "      <td>0.283954</td>\n",
       "      <td>1</td>\n",
       "      <td>-0.578423</td>\n",
       "      <td>-1.213241</td>\n",
       "      <td>0</td>\n",
       "      <td>0</td>\n",
       "      <td>1</td>\n",
       "      <td>0</td>\n",
       "      <td>0</td>\n",
       "      <td>1</td>\n",
       "      <td>0</td>\n",
       "      <td>0</td>\n",
       "      <td>1</td>\n",
       "      <td>0</td>\n",
       "    </tr>\n",
       "  </tbody>\n",
       "</table>\n",
       "</div>"
      ],
      "text/plain": [
       "   Customer_care_calls  Customer_rating  Cost_of_the_Product  Prior_purchases  \\\n",
       "0            -0.923799                5            -0.669915        -0.372735   \n",
       "1             1.704465                3            -0.170550         0.283954   \n",
       "2            -1.799887                5             1.389964        -0.372735   \n",
       "3             0.828377                5             0.183166        -1.029424   \n",
       "4             1.704465                3             1.785294         0.283954   \n",
       "\n",
       "   Product_importance  Discount_offered  Weight_in_gms  Warehouse_block_A  \\\n",
       "0                   1         -0.393292       0.306355                  0   \n",
       "1                   2         -0.640133       0.527109                  1   \n",
       "2                   2         -0.455002      -1.591153                  0   \n",
       "3                   2         -0.578423       0.400527                  0   \n",
       "4                   1         -0.578423      -1.213241                  0   \n",
       "\n",
       "   Warehouse_block_B  Warehouse_block_C  Warehouse_block_D  Warehouse_block_F  \\\n",
       "0                  0                  0                  0                  1   \n",
       "1                  0                  0                  0                  0   \n",
       "2                  0                  0                  1                  0   \n",
       "3                  0                  1                  0                  0   \n",
       "4                  0                  1                  0                  0   \n",
       "\n",
       "   Mode_of_Shipment_Flight  Mode_of_Shipment_Road  Mode_of_Shipment_Ship  \\\n",
       "0                        0                      0                      1   \n",
       "1                        0                      0                      1   \n",
       "2                        0                      0                      1   \n",
       "3                        0                      0                      1   \n",
       "4                        1                      0                      0   \n",
       "\n",
       "   Gender_F  Gender_M  \n",
       "0         1         0  \n",
       "1         1         0  \n",
       "2         0         1  \n",
       "3         0         1  \n",
       "4         1         0  "
      ]
     },
     "execution_count": 245,
     "metadata": {},
     "output_type": "execute_result"
    }
   ],
   "source": [
    "X_train.head()"
   ]
  },
  {
   "cell_type": "code",
   "execution_count": 246,
   "id": "e997c49b",
   "metadata": {},
   "outputs": [
    {
     "data": {
      "text/html": [
       "<div>\n",
       "<style scoped>\n",
       "    .dataframe tbody tr th:only-of-type {\n",
       "        vertical-align: middle;\n",
       "    }\n",
       "\n",
       "    .dataframe tbody tr th {\n",
       "        vertical-align: top;\n",
       "    }\n",
       "\n",
       "    .dataframe thead th {\n",
       "        text-align: right;\n",
       "    }\n",
       "</style>\n",
       "<table border=\"1\" class=\"dataframe\">\n",
       "  <thead>\n",
       "    <tr style=\"text-align: right;\">\n",
       "      <th></th>\n",
       "      <th>Customer_care_calls</th>\n",
       "      <th>Customer_rating</th>\n",
       "      <th>Cost_of_the_Product</th>\n",
       "      <th>Prior_purchases</th>\n",
       "      <th>Product_importance</th>\n",
       "      <th>Discount_offered</th>\n",
       "      <th>Weight_in_gms</th>\n",
       "      <th>Warehouse_block_A</th>\n",
       "      <th>Warehouse_block_B</th>\n",
       "      <th>Warehouse_block_C</th>\n",
       "      <th>Warehouse_block_D</th>\n",
       "      <th>Warehouse_block_F</th>\n",
       "      <th>Mode_of_Shipment_Flight</th>\n",
       "      <th>Mode_of_Shipment_Road</th>\n",
       "      <th>Mode_of_Shipment_Ship</th>\n",
       "      <th>Gender_F</th>\n",
       "      <th>Gender_M</th>\n",
       "    </tr>\n",
       "  </thead>\n",
       "  <tbody>\n",
       "    <tr>\n",
       "      <th>8794</th>\n",
       "      <td>-0.923799</td>\n",
       "      <td>5</td>\n",
       "      <td>1.348350</td>\n",
       "      <td>-1.029424</td>\n",
       "      <td>1</td>\n",
       "      <td>-0.393292</td>\n",
       "      <td>0.602325</td>\n",
       "      <td>0</td>\n",
       "      <td>0</td>\n",
       "      <td>1</td>\n",
       "      <td>0</td>\n",
       "      <td>0</td>\n",
       "      <td>0</td>\n",
       "      <td>1</td>\n",
       "      <td>0</td>\n",
       "      <td>1</td>\n",
       "      <td>0</td>\n",
       "    </tr>\n",
       "    <tr>\n",
       "      <th>8795</th>\n",
       "      <td>0.828377</td>\n",
       "      <td>5</td>\n",
       "      <td>-0.482653</td>\n",
       "      <td>0.283954</td>\n",
       "      <td>2</td>\n",
       "      <td>-0.269872</td>\n",
       "      <td>1.034660</td>\n",
       "      <td>0</td>\n",
       "      <td>0</td>\n",
       "      <td>0</td>\n",
       "      <td>0</td>\n",
       "      <td>1</td>\n",
       "      <td>0</td>\n",
       "      <td>1</td>\n",
       "      <td>0</td>\n",
       "      <td>1</td>\n",
       "      <td>0</td>\n",
       "    </tr>\n",
       "    <tr>\n",
       "      <th>8796</th>\n",
       "      <td>-0.047711</td>\n",
       "      <td>2</td>\n",
       "      <td>-1.522996</td>\n",
       "      <td>-1.029424</td>\n",
       "      <td>2</td>\n",
       "      <td>-0.701843</td>\n",
       "      <td>1.326961</td>\n",
       "      <td>1</td>\n",
       "      <td>0</td>\n",
       "      <td>0</td>\n",
       "      <td>0</td>\n",
       "      <td>0</td>\n",
       "      <td>0</td>\n",
       "      <td>0</td>\n",
       "      <td>1</td>\n",
       "      <td>1</td>\n",
       "      <td>0</td>\n",
       "    </tr>\n",
       "    <tr>\n",
       "      <th>8797</th>\n",
       "      <td>0.828377</td>\n",
       "      <td>3</td>\n",
       "      <td>-1.377348</td>\n",
       "      <td>1.597332</td>\n",
       "      <td>2</td>\n",
       "      <td>1.334592</td>\n",
       "      <td>-1.605217</td>\n",
       "      <td>1</td>\n",
       "      <td>0</td>\n",
       "      <td>0</td>\n",
       "      <td>0</td>\n",
       "      <td>0</td>\n",
       "      <td>0</td>\n",
       "      <td>0</td>\n",
       "      <td>1</td>\n",
       "      <td>1</td>\n",
       "      <td>0</td>\n",
       "    </tr>\n",
       "    <tr>\n",
       "      <th>8798</th>\n",
       "      <td>-0.047711</td>\n",
       "      <td>3</td>\n",
       "      <td>-1.148472</td>\n",
       "      <td>-0.372735</td>\n",
       "      <td>0</td>\n",
       "      <td>-0.701843</td>\n",
       "      <td>0.550347</td>\n",
       "      <td>0</td>\n",
       "      <td>0</td>\n",
       "      <td>1</td>\n",
       "      <td>0</td>\n",
       "      <td>0</td>\n",
       "      <td>1</td>\n",
       "      <td>0</td>\n",
       "      <td>0</td>\n",
       "      <td>1</td>\n",
       "      <td>0</td>\n",
       "    </tr>\n",
       "  </tbody>\n",
       "</table>\n",
       "</div>"
      ],
      "text/plain": [
       "      Customer_care_calls  Customer_rating  Cost_of_the_Product  \\\n",
       "8794            -0.923799                5             1.348350   \n",
       "8795             0.828377                5            -0.482653   \n",
       "8796            -0.047711                2            -1.522996   \n",
       "8797             0.828377                3            -1.377348   \n",
       "8798            -0.047711                3            -1.148472   \n",
       "\n",
       "      Prior_purchases  Product_importance  Discount_offered  Weight_in_gms  \\\n",
       "8794        -1.029424                   1         -0.393292       0.602325   \n",
       "8795         0.283954                   2         -0.269872       1.034660   \n",
       "8796        -1.029424                   2         -0.701843       1.326961   \n",
       "8797         1.597332                   2          1.334592      -1.605217   \n",
       "8798        -0.372735                   0         -0.701843       0.550347   \n",
       "\n",
       "      Warehouse_block_A  Warehouse_block_B  Warehouse_block_C  \\\n",
       "8794                  0                  0                  1   \n",
       "8795                  0                  0                  0   \n",
       "8796                  1                  0                  0   \n",
       "8797                  1                  0                  0   \n",
       "8798                  0                  0                  1   \n",
       "\n",
       "      Warehouse_block_D  Warehouse_block_F  Mode_of_Shipment_Flight  \\\n",
       "8794                  0                  0                        0   \n",
       "8795                  0                  1                        0   \n",
       "8796                  0                  0                        0   \n",
       "8797                  0                  0                        0   \n",
       "8798                  0                  0                        1   \n",
       "\n",
       "      Mode_of_Shipment_Road  Mode_of_Shipment_Ship  Gender_F  Gender_M  \n",
       "8794                      1                      0         1         0  \n",
       "8795                      1                      0         1         0  \n",
       "8796                      0                      1         1         0  \n",
       "8797                      0                      1         1         0  \n",
       "8798                      0                      0         1         0  "
      ]
     },
     "execution_count": 246,
     "metadata": {},
     "output_type": "execute_result"
    }
   ],
   "source": [
    "X_train.tail()"
   ]
  },
  {
   "cell_type": "code",
   "execution_count": 247,
   "id": "f15a6fa2",
   "metadata": {},
   "outputs": [
    {
     "data": {
      "text/html": [
       "<div>\n",
       "<style scoped>\n",
       "    .dataframe tbody tr th:only-of-type {\n",
       "        vertical-align: middle;\n",
       "    }\n",
       "\n",
       "    .dataframe tbody tr th {\n",
       "        vertical-align: top;\n",
       "    }\n",
       "\n",
       "    .dataframe thead th {\n",
       "        text-align: right;\n",
       "    }\n",
       "</style>\n",
       "<table border=\"1\" class=\"dataframe\">\n",
       "  <thead>\n",
       "    <tr style=\"text-align: right;\">\n",
       "      <th></th>\n",
       "      <th>Customer_care_calls</th>\n",
       "      <th>Customer_rating</th>\n",
       "      <th>Cost_of_the_Product</th>\n",
       "      <th>Prior_purchases</th>\n",
       "      <th>Product_importance</th>\n",
       "      <th>Discount_offered</th>\n",
       "      <th>Weight_in_gms</th>\n",
       "      <th>Warehouse_block_A</th>\n",
       "      <th>Warehouse_block_B</th>\n",
       "      <th>Warehouse_block_C</th>\n",
       "      <th>Warehouse_block_D</th>\n",
       "      <th>Warehouse_block_F</th>\n",
       "      <th>Mode_of_Shipment_Flight</th>\n",
       "      <th>Mode_of_Shipment_Road</th>\n",
       "      <th>Mode_of_Shipment_Ship</th>\n",
       "      <th>Gender_F</th>\n",
       "      <th>Gender_M</th>\n",
       "    </tr>\n",
       "  </thead>\n",
       "  <tbody>\n",
       "    <tr>\n",
       "      <th>0</th>\n",
       "      <td>-0.047711</td>\n",
       "      <td>2</td>\n",
       "      <td>1.223509</td>\n",
       "      <td>-1.029424</td>\n",
       "      <td>2</td>\n",
       "      <td>-0.701843</td>\n",
       "      <td>0.231751</td>\n",
       "      <td>0</td>\n",
       "      <td>0</td>\n",
       "      <td>0</td>\n",
       "      <td>1</td>\n",
       "      <td>0</td>\n",
       "      <td>0</td>\n",
       "      <td>1</td>\n",
       "      <td>0</td>\n",
       "      <td>1</td>\n",
       "      <td>0</td>\n",
       "    </tr>\n",
       "    <tr>\n",
       "      <th>1</th>\n",
       "      <td>-0.047711</td>\n",
       "      <td>2</td>\n",
       "      <td>-0.420233</td>\n",
       "      <td>-0.372735</td>\n",
       "      <td>2</td>\n",
       "      <td>-0.393292</td>\n",
       "      <td>0.692216</td>\n",
       "      <td>1</td>\n",
       "      <td>0</td>\n",
       "      <td>0</td>\n",
       "      <td>0</td>\n",
       "      <td>0</td>\n",
       "      <td>0</td>\n",
       "      <td>1</td>\n",
       "      <td>0</td>\n",
       "      <td>0</td>\n",
       "      <td>1</td>\n",
       "    </tr>\n",
       "    <tr>\n",
       "      <th>2</th>\n",
       "      <td>-0.047711</td>\n",
       "      <td>1</td>\n",
       "      <td>-0.295391</td>\n",
       "      <td>-1.029424</td>\n",
       "      <td>1</td>\n",
       "      <td>-0.640133</td>\n",
       "      <td>0.683655</td>\n",
       "      <td>0</td>\n",
       "      <td>0</td>\n",
       "      <td>0</td>\n",
       "      <td>1</td>\n",
       "      <td>0</td>\n",
       "      <td>0</td>\n",
       "      <td>0</td>\n",
       "      <td>1</td>\n",
       "      <td>0</td>\n",
       "      <td>1</td>\n",
       "    </tr>\n",
       "    <tr>\n",
       "      <th>3</th>\n",
       "      <td>-0.923799</td>\n",
       "      <td>3</td>\n",
       "      <td>-0.149744</td>\n",
       "      <td>-0.372735</td>\n",
       "      <td>2</td>\n",
       "      <td>-0.393292</td>\n",
       "      <td>0.821244</td>\n",
       "      <td>0</td>\n",
       "      <td>0</td>\n",
       "      <td>0</td>\n",
       "      <td>1</td>\n",
       "      <td>0</td>\n",
       "      <td>1</td>\n",
       "      <td>0</td>\n",
       "      <td>0</td>\n",
       "      <td>0</td>\n",
       "      <td>1</td>\n",
       "    </tr>\n",
       "    <tr>\n",
       "      <th>4</th>\n",
       "      <td>0.828377</td>\n",
       "      <td>5</td>\n",
       "      <td>0.786565</td>\n",
       "      <td>0.940643</td>\n",
       "      <td>2</td>\n",
       "      <td>-0.331582</td>\n",
       "      <td>-1.071983</td>\n",
       "      <td>1</td>\n",
       "      <td>0</td>\n",
       "      <td>0</td>\n",
       "      <td>0</td>\n",
       "      <td>0</td>\n",
       "      <td>1</td>\n",
       "      <td>0</td>\n",
       "      <td>0</td>\n",
       "      <td>0</td>\n",
       "      <td>1</td>\n",
       "    </tr>\n",
       "  </tbody>\n",
       "</table>\n",
       "</div>"
      ],
      "text/plain": [
       "   Customer_care_calls  Customer_rating  Cost_of_the_Product  Prior_purchases  \\\n",
       "0            -0.047711                2             1.223509        -1.029424   \n",
       "1            -0.047711                2            -0.420233        -0.372735   \n",
       "2            -0.047711                1            -0.295391        -1.029424   \n",
       "3            -0.923799                3            -0.149744        -0.372735   \n",
       "4             0.828377                5             0.786565         0.940643   \n",
       "\n",
       "   Product_importance  Discount_offered  Weight_in_gms  Warehouse_block_A  \\\n",
       "0                   2         -0.701843       0.231751                  0   \n",
       "1                   2         -0.393292       0.692216                  1   \n",
       "2                   1         -0.640133       0.683655                  0   \n",
       "3                   2         -0.393292       0.821244                  0   \n",
       "4                   2         -0.331582      -1.071983                  1   \n",
       "\n",
       "   Warehouse_block_B  Warehouse_block_C  Warehouse_block_D  Warehouse_block_F  \\\n",
       "0                  0                  0                  1                  0   \n",
       "1                  0                  0                  0                  0   \n",
       "2                  0                  0                  1                  0   \n",
       "3                  0                  0                  1                  0   \n",
       "4                  0                  0                  0                  0   \n",
       "\n",
       "   Mode_of_Shipment_Flight  Mode_of_Shipment_Road  Mode_of_Shipment_Ship  \\\n",
       "0                        0                      1                      0   \n",
       "1                        0                      1                      0   \n",
       "2                        0                      0                      1   \n",
       "3                        1                      0                      0   \n",
       "4                        1                      0                      0   \n",
       "\n",
       "   Gender_F  Gender_M  \n",
       "0         1         0  \n",
       "1         0         1  \n",
       "2         0         1  \n",
       "3         0         1  \n",
       "4         0         1  "
      ]
     },
     "execution_count": 247,
     "metadata": {},
     "output_type": "execute_result"
    }
   ],
   "source": [
    "X_val.head()"
   ]
  },
  {
   "cell_type": "markdown",
   "id": "413c1685",
   "metadata": {},
   "source": [
    "## Model 1: Logistic Regression\n",
    "\n",
    "A simple Logistic Regression is used to establish a baseline performance. \n",
    "Default parameter values are used to train this model without cross-validation.\n",
    "\n",
    "### Model 1: Training using default parameters values"
   ]
  },
  {
   "cell_type": "code",
   "execution_count": 248,
   "id": "4ae31e9d",
   "metadata": {},
   "outputs": [
    {
     "data": {
      "text/html": [
       "<style>#sk-container-id-9 {color: black;background-color: white;}#sk-container-id-9 pre{padding: 0;}#sk-container-id-9 div.sk-toggleable {background-color: white;}#sk-container-id-9 label.sk-toggleable__label {cursor: pointer;display: block;width: 100%;margin-bottom: 0;padding: 0.3em;box-sizing: border-box;text-align: center;}#sk-container-id-9 label.sk-toggleable__label-arrow:before {content: \"▸\";float: left;margin-right: 0.25em;color: #696969;}#sk-container-id-9 label.sk-toggleable__label-arrow:hover:before {color: black;}#sk-container-id-9 div.sk-estimator:hover label.sk-toggleable__label-arrow:before {color: black;}#sk-container-id-9 div.sk-toggleable__content {max-height: 0;max-width: 0;overflow: hidden;text-align: left;background-color: #f0f8ff;}#sk-container-id-9 div.sk-toggleable__content pre {margin: 0.2em;color: black;border-radius: 0.25em;background-color: #f0f8ff;}#sk-container-id-9 input.sk-toggleable__control:checked~div.sk-toggleable__content {max-height: 200px;max-width: 100%;overflow: auto;}#sk-container-id-9 input.sk-toggleable__control:checked~label.sk-toggleable__label-arrow:before {content: \"▾\";}#sk-container-id-9 div.sk-estimator input.sk-toggleable__control:checked~label.sk-toggleable__label {background-color: #d4ebff;}#sk-container-id-9 div.sk-label input.sk-toggleable__control:checked~label.sk-toggleable__label {background-color: #d4ebff;}#sk-container-id-9 input.sk-hidden--visually {border: 0;clip: rect(1px 1px 1px 1px);clip: rect(1px, 1px, 1px, 1px);height: 1px;margin: -1px;overflow: hidden;padding: 0;position: absolute;width: 1px;}#sk-container-id-9 div.sk-estimator {font-family: monospace;background-color: #f0f8ff;border: 1px dotted black;border-radius: 0.25em;box-sizing: border-box;margin-bottom: 0.5em;}#sk-container-id-9 div.sk-estimator:hover {background-color: #d4ebff;}#sk-container-id-9 div.sk-parallel-item::after {content: \"\";width: 100%;border-bottom: 1px solid gray;flex-grow: 1;}#sk-container-id-9 div.sk-label:hover label.sk-toggleable__label {background-color: #d4ebff;}#sk-container-id-9 div.sk-serial::before {content: \"\";position: absolute;border-left: 1px solid gray;box-sizing: border-box;top: 0;bottom: 0;left: 50%;z-index: 0;}#sk-container-id-9 div.sk-serial {display: flex;flex-direction: column;align-items: center;background-color: white;padding-right: 0.2em;padding-left: 0.2em;position: relative;}#sk-container-id-9 div.sk-item {position: relative;z-index: 1;}#sk-container-id-9 div.sk-parallel {display: flex;align-items: stretch;justify-content: center;background-color: white;position: relative;}#sk-container-id-9 div.sk-item::before, #sk-container-id-9 div.sk-parallel-item::before {content: \"\";position: absolute;border-left: 1px solid gray;box-sizing: border-box;top: 0;bottom: 0;left: 50%;z-index: -1;}#sk-container-id-9 div.sk-parallel-item {display: flex;flex-direction: column;z-index: 1;position: relative;background-color: white;}#sk-container-id-9 div.sk-parallel-item:first-child::after {align-self: flex-end;width: 50%;}#sk-container-id-9 div.sk-parallel-item:last-child::after {align-self: flex-start;width: 50%;}#sk-container-id-9 div.sk-parallel-item:only-child::after {width: 0;}#sk-container-id-9 div.sk-dashed-wrapped {border: 1px dashed gray;margin: 0 0.4em 0.5em 0.4em;box-sizing: border-box;padding-bottom: 0.4em;background-color: white;}#sk-container-id-9 div.sk-label label {font-family: monospace;font-weight: bold;display: inline-block;line-height: 1.2em;}#sk-container-id-9 div.sk-label-container {text-align: center;}#sk-container-id-9 div.sk-container {/* jupyter's `normalize.less` sets `[hidden] { display: none; }` but bootstrap.min.css set `[hidden] { display: none !important; }` so we also need the `!important` here to be able to override the default hidden behavior on the sphinx rendered scikit-learn.org. See: https://github.com/scikit-learn/scikit-learn/issues/21755 */display: inline-block !important;position: relative;}#sk-container-id-9 div.sk-text-repr-fallback {display: none;}</style><div id=\"sk-container-id-9\" class=\"sk-top-container\"><div class=\"sk-text-repr-fallback\"><pre>LogisticRegression(random_state=0, solver=&#x27;liblinear&#x27;)</pre><b>In a Jupyter environment, please rerun this cell to show the HTML representation or trust the notebook. <br />On GitHub, the HTML representation is unable to render, please try loading this page with nbviewer.org.</b></div><div class=\"sk-container\" hidden><div class=\"sk-item\"><div class=\"sk-estimator sk-toggleable\"><input class=\"sk-toggleable__control sk-hidden--visually\" id=\"sk-estimator-id-9\" type=\"checkbox\" checked><label for=\"sk-estimator-id-9\" class=\"sk-toggleable__label sk-toggleable__label-arrow\">LogisticRegression</label><div class=\"sk-toggleable__content\"><pre>LogisticRegression(random_state=0, solver=&#x27;liblinear&#x27;)</pre></div></div></div></div></div>"
      ],
      "text/plain": [
       "LogisticRegression(random_state=0, solver='liblinear')"
      ]
     },
     "execution_count": 248,
     "metadata": {},
     "output_type": "execute_result"
    }
   ],
   "source": [
    "# create model instance\n",
    "model1 = []\n",
    "model1 = LogisticRegression(solver='liblinear', random_state=0)\n",
    "\n",
    "# Since other models are going to be tuned\n",
    "\n",
    "X_trainval = []\n",
    "y_trainval = []\n",
    "X_trainval = pd.concat([X_train, X_val])\n",
    "y_trainval = np.concatenate((y_train, y_val))\n",
    "\n",
    "#fit the model using the combined training and validation data\n",
    "model1.fit(X_trainval, y_trainval)\n"
   ]
  },
  {
   "cell_type": "code",
   "execution_count": 249,
   "id": "d99cad68",
   "metadata": {},
   "outputs": [
    {
     "data": {
      "text/plain": [
       "array([[-0.12325535,  0.0263022 , -0.1006859 , -0.11973755, -0.10688355,\n",
       "         1.80445867, -0.38472215,  0.02924908,  0.14205931,  0.11541173,\n",
       "         0.10900846,  0.09918754,  0.17164613,  0.16281543,  0.16045455,\n",
       "         0.21895647,  0.27595965]])"
      ]
     },
     "execution_count": 249,
     "metadata": {},
     "output_type": "execute_result"
    }
   ],
   "source": [
    "model1.coef_"
   ]
  },
  {
   "cell_type": "markdown",
   "id": "c1533fdf",
   "metadata": {},
   "source": [
    "### Model1: Performance Evaluation"
   ]
  },
  {
   "cell_type": "code",
   "execution_count": 251,
   "id": "100cf861",
   "metadata": {},
   "outputs": [],
   "source": [
    "y_pred1 = model1.predict(X_test)"
   ]
  },
  {
   "cell_type": "code",
   "execution_count": 252,
   "id": "49f42521",
   "metadata": {},
   "outputs": [
    {
     "data": {
      "text/plain": [
       "array([[257, 193],\n",
       "       [212, 438]])"
      ]
     },
     "execution_count": 252,
     "metadata": {},
     "output_type": "execute_result"
    }
   ],
   "source": [
    "cnf_matrix1 = confusion_matrix(y_test, y_pred1)\n",
    "cnf_matrix1"
   ]
  },
  {
   "cell_type": "code",
   "execution_count": 253,
   "id": "899d2255",
   "metadata": {},
   "outputs": [
    {
     "data": {
      "text/plain": [
       "<Axes: >"
      ]
     },
     "execution_count": 253,
     "metadata": {},
     "output_type": "execute_result"
    },
    {
     "data": {
      "image/png": "[encoded data removed]",
      "text/plain": [
       "<Figure size 640x480 with 2 Axes>"
      ]
     },
     "metadata": {},
     "output_type": "display_data"
    }
   ],
   "source": [
    "sns.heatmap(cnf_matrix1, annot=True)"
   ]
  },
  {
   "cell_type": "code",
   "execution_count": 254,
   "id": "0b515951",
   "metadata": {},
   "outputs": [
    {
     "data": {
      "text/plain": [
       "<Axes: >"
      ]
     },
     "execution_count": 254,
     "metadata": {},
     "output_type": "execute_result"
    },
    {
     "data": {
      "image/png": "[encoded data removed]",
      "text/plain": [
       "<Figure size 640x480 with 2 Axes>"
      ]
     },
     "metadata": {},
     "output_type": "display_data"
    }
   ],
   "source": [
    "sns.heatmap(cnf_matrix1/np.sum(cnf_matrix1), annot=True, \n",
    "            fmt='.2%', cmap='Blues')"
   ]
  },
  {
   "cell_type": "code",
   "execution_count": 255,
   "id": "5a027756",
   "metadata": {},
   "outputs": [
    {
     "name": "stdout",
     "output_type": "stream",
     "text": [
      "              precision    recall  f1-score   support\n",
      "\n",
      "           0       0.55      0.57      0.56       450\n",
      "           1       0.69      0.67      0.68       650\n",
      "\n",
      "    accuracy                           0.63      1100\n",
      "   macro avg       0.62      0.62      0.62      1100\n",
      "weighted avg       0.63      0.63      0.63      1100\n",
      "\n"
     ]
    }
   ],
   "source": [
    "print(classification_report(y_test, y_pred1))#, target_names=target_names))"
   ]
  },
  {
   "cell_type": "code",
   "execution_count": 256,
   "id": "6c27962b",
   "metadata": {},
   "outputs": [
    {
     "name": "stdout",
     "output_type": "stream",
     "text": [
      "Optimization terminated successfully.\n",
      "         Current function value: 0.545936\n",
      "         Iterations 8\n",
      "                           Logit Regression Results                           \n",
      "==============================================================================\n",
      "Dep. Variable:                      y   No. Observations:                 9899\n",
      "Model:                          Logit   Df Residuals:                     9883\n",
      "Method:                           MLE   Df Model:                           15\n",
      "Date:                Thu, 06 Jun 2024   Pseudo R-squ.:                  0.1901\n",
      "Time:                        05:22:26   Log-Likelihood:                -5404.2\n",
      "converged:                       True   LL-Null:                       -6672.7\n",
      "Covariance Type:            nonrobust   LLR p-value:                     0.000\n",
      "===========================================================================================\n",
      "                              coef    std err          z      P>|z|      [0.025      0.975]\n",
      "-------------------------------------------------------------------------------------------\n",
      "Customer_care_calls        -0.1231      0.026     -4.755      0.000      -0.174      -0.072\n",
      "Customer_rating             0.0259      0.016      1.586      0.113      -0.006       0.058\n",
      "Cost_of_the_Product        -0.1006      0.025     -3.957      0.000      -0.150      -0.051\n",
      "Prior_purchases            -0.1198      0.024     -4.926      0.000      -0.167      -0.072\n",
      "Product_importance         -0.1080      0.037     -2.941      0.003      -0.180      -0.036\n",
      "Discount_offered            1.8160      0.076     23.856      0.000       1.667       1.965\n",
      "Weight_in_gms              -0.3845      0.028    -13.962      0.000      -0.438      -0.331\n",
      "Warehouse_block_A           0.1264   1.25e+06   1.01e-07      1.000   -2.46e+06    2.46e+06\n",
      "Warehouse_block_B           0.2396   1.25e+06   1.91e-07      1.000   -2.46e+06    2.46e+06\n",
      "Warehouse_block_C           0.2129   1.25e+06    1.7e-07      1.000   -2.46e+06    2.46e+06\n",
      "Warehouse_block_D           0.2064   1.25e+06   1.65e-07      1.000   -2.46e+06    2.46e+06\n",
      "Warehouse_block_F           0.1965   1.25e+06   1.57e-07      1.000   -2.46e+06    2.46e+06\n",
      "Mode_of_Shipment_Flight     0.3340   7.59e+05    4.4e-07      1.000   -1.49e+06    1.49e+06\n",
      "Mode_of_Shipment_Road       0.3253   7.59e+05   4.28e-07      1.000   -1.49e+06    1.49e+06\n",
      "Mode_of_Shipment_Ship       0.3224   7.59e+05   4.24e-07      1.000   -1.49e+06    1.49e+06\n",
      "Gender_F                    0.4623        nan        nan        nan         nan         nan\n",
      "Gender_M                    0.5194        nan        nan        nan         nan         nan\n",
      "===========================================================================================\n"
     ]
    }
   ],
   "source": [
    "import statsmodels.api as sm\n",
    "\n",
    "logit_model=sm.Logit(y_trainval, X_trainval)\n",
    "result=logit_model.fit()\n",
    "print(result.summary())"
   ]
  },
  {
   "cell_type": "code",
   "execution_count": null,
   "id": "7881722d",
   "metadata": {},
   "outputs": [],
   "source": []
  }
 ],
 "metadata": {
  "kernelspec": {
   "display_name": "Python 3 (ipykernel)",
   "language": "python",
   "name": "python3"
  },
  "language_info": {
   "codemirror_mode": {
    "name": "ipython",
    "version": 3
   },
   "file_extension": ".py",
   "mimetype": "text/x-python",
   "name": "python",
   "nbconvert_exporter": "python",
   "pygments_lexer": "ipython3",
   "version": "3.11.5"
  }
 },
 "nbformat": 4,
 "nbformat_minor": 5
}
