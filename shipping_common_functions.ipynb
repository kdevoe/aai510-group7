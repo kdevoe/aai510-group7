{
 "cells": [
  {
   "cell_type": "markdown",
   "id": "12f2d332",
   "metadata": {},
   "source": [
    "# Predicting On-time Delivery of Online Purchases\n",
    "## Common Functions\n",
    "## AAI-510 Team 7 Final Project\n",
    "\n",
    "Team 7:  Ken Devoe, Tyler Foreman, Geoffrey Fadera\n",
    "\n",
    "University of San Diego, Applied Artificial Intelligence\n",
    "\n",
    "Date:  June 24, 2024\n",
    "\n",
    "GitHub Repository: https://github.com/kdevoe/aai510-group7"
   ]
  },
  {
   "cell_type": "markdown",
   "id": "4b9f13a8",
   "metadata": {},
   "source": [
    "## Imports"
   ]
  },
  {
   "cell_type": "code",
   "execution_count": 5,
   "id": "2bf7249a",
   "metadata": {},
   "outputs": [],
   "source": [
    "import matplotlib.pyplot as plt\n",
    "import numpy as np\n",
    "import seaborn as sns\n",
    "from sklearn.metrics import classification_report, confusion_matrix"
   ]
  },
  {
   "cell_type": "markdown",
   "id": "cdf96143",
   "metadata": {},
   "source": [
    "## Constants"
   ]
  },
  {
   "cell_type": "code",
   "execution_count": null,
   "id": "6e0e3078",
   "metadata": {},
   "outputs": [],
   "source": [
    "# instead of '0' and '1's, create display labels for target classes \n",
    "TARGET_NAMES = ['LATE', 'ON-TIME']"
   ]
  },
  {
   "cell_type": "markdown",
   "id": "cb054998",
   "metadata": {},
   "source": [
    "## Functions"
   ]
  },
  {
   "cell_type": "code",
   "execution_count": 9,
   "id": "79ea6874",
   "metadata": {},
   "outputs": [],
   "source": [
    "# aai-510-group7 confusion matrix\n",
    "def aai510_grp7_confusion_matrix(y_true = [], y_pred = [], title = 'Model X: Confusion Matrix'):\n",
    "\n",
    "    # generate confusion matrix for model1\n",
    "    cnf_matrix = confusion_matrix(y_true, y_pred)\n",
    "\n",
    "    # create group names for true negatives, false positives, false negatives, and true positives \n",
    "    group_names = ['TRUE LATE','FALSE ON-TIME','FALSE LATE','TRUE ON-TIME']\n",
    "\n",
    "    # list counts and percentages for each group above.\n",
    "    group_counts = cnf_matrix.flatten()\n",
    "    group_percentages = [format(value, \".2%\") for value in group_counts/np.sum(group_counts)]\n",
    "\n",
    "    # create a label for each group by combining the group name, counts, and percentages\n",
    "    labels = [f'{v1}\\n{v2}\\n{v3}' for v1, v2, v3 in zip(group_names,group_counts,group_percentages)]\n",
    "    labels = np.asarray(labels).reshape(2,2)\n",
    "\n",
    "    # display confusion matrix\n",
    "    sns.heatmap(cnf_matrix, annot=labels, fmt='', cmap='Blues', \n",
    "                xticklabels = TARGET_NAMES, \n",
    "                yticklabels = TARGET_NAMES)\n",
    "    plt.xlabel('PREDICTED')\n",
    "    plt.ylabel('ACTUAL')\n",
    "    plt.title(title, y = -1)"
   ]
  },
  {
   "cell_type": "code",
   "execution_count": 10,
   "id": "5a027756",
   "metadata": {},
   "outputs": [],
   "source": [
    "# aai-510-group7 classification report\n",
    "def aai510_grp7_class_report(y_true = [], y_pred = [], title = 'Model X: Classification Report'):\n",
    "    \n",
    "    print(classification_report(y_true, y_pred, target_names=TARGET_NAMES))\n",
    "    "
   ]
  },
  {
   "cell_type": "code",
   "execution_count": null,
   "id": "f2ca203e",
   "metadata": {},
   "outputs": [],
   "source": []
  }
 ],
 "metadata": {
  "kernelspec": {
   "display_name": "Python 3 (ipykernel)",
   "language": "python",
   "name": "python3"
  },
  "language_info": {
   "codemirror_mode": {
    "name": "ipython",
    "version": 3
   },
   "file_extension": ".py",
   "mimetype": "text/x-python",
   "name": "python",
   "nbconvert_exporter": "python",
   "pygments_lexer": "ipython3",
   "version": "3.11.5"
  }
 },
 "nbformat": 4,
 "nbformat_minor": 5
}
