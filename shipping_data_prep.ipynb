{
 "cells": [
  {
   "cell_type": "markdown",
   "metadata": {},
   "source": [
    "# Predicting On-time Delivery of Online Purchases\n",
    "## Part II: Data Cleaning, Preparation and Feature Engineering\n",
    "## AAI-510 Team 7 Final Project\n",
    "\n",
    "Team 7:  Ken Devoe, Tyler Foreman, Geoffrey Fadera\n",
    "\n",
    "University of San Diego, Applied Artificial Intelligence\n",
    "\n",
    "Date:  June 24, 2024\n",
    "\n",
    "GitHub Repository: https://github.com/kdevoe/aai510-group7"
   ]
  },
  {
   "cell_type": "code",
   "execution_count": null,
   "metadata": {},
   "outputs": [],
   "source": []
  }
 ],
 "metadata": {
  "kernelspec": {
   "display_name": "base-ml",
   "language": "python",
   "name": "python3"
  },
  "language_info": {
   "codemirror_mode": {
    "name": "ipython",
    "version": 3
   },
   "file_extension": ".py",
   "mimetype": "text/x-python",
   "name": "python",
   "nbconvert_exporter": "python",
   "pygments_lexer": "ipython3",
   "version": "3.11.3"
  }
 },
 "nbformat": 4,
 "nbformat_minor": 2
}
