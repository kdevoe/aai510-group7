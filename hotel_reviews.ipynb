{
 "cells": [
  {
   "cell_type": "markdown",
   "metadata": {},
   "source": [
    "## Imports"
   ]
  },
  {
   "cell_type": "code",
   "execution_count": 29,
   "metadata": {},
   "outputs": [],
   "source": [
    "import matplotlib.pyplot as plt\n",
    "import pandas as pd\n",
    "import textwrap\n"
   ]
  },
  {
   "cell_type": "code",
   "execution_count": 2,
   "metadata": {},
   "outputs": [
    {
     "data": {
      "text/html": [
       "<div>\n",
       "<style scoped>\n",
       "    .dataframe tbody tr th:only-of-type {\n",
       "        vertical-align: middle;\n",
       "    }\n",
       "\n",
       "    .dataframe tbody tr th {\n",
       "        vertical-align: top;\n",
       "    }\n",
       "\n",
       "    .dataframe thead th {\n",
       "        text-align: right;\n",
       "    }\n",
       "</style>\n",
       "<table border=\"1\" class=\"dataframe\">\n",
       "  <thead>\n",
       "    <tr style=\"text-align: right;\">\n",
       "      <th></th>\n",
       "      <th>Review</th>\n",
       "      <th>Rating</th>\n",
       "    </tr>\n",
       "  </thead>\n",
       "  <tbody>\n",
       "    <tr>\n",
       "      <th>0</th>\n",
       "      <td>nice hotel expensive parking got good deal sta...</td>\n",
       "      <td>4</td>\n",
       "    </tr>\n",
       "    <tr>\n",
       "      <th>1</th>\n",
       "      <td>ok nothing special charge diamond member hilto...</td>\n",
       "      <td>2</td>\n",
       "    </tr>\n",
       "    <tr>\n",
       "      <th>2</th>\n",
       "      <td>nice rooms not 4* experience hotel monaco seat...</td>\n",
       "      <td>3</td>\n",
       "    </tr>\n",
       "    <tr>\n",
       "      <th>3</th>\n",
       "      <td>unique, great stay, wonderful time hotel monac...</td>\n",
       "      <td>5</td>\n",
       "    </tr>\n",
       "    <tr>\n",
       "      <th>4</th>\n",
       "      <td>great stay great stay, went seahawk game aweso...</td>\n",
       "      <td>5</td>\n",
       "    </tr>\n",
       "    <tr>\n",
       "      <th>...</th>\n",
       "      <td>...</td>\n",
       "      <td>...</td>\n",
       "    </tr>\n",
       "    <tr>\n",
       "      <th>20486</th>\n",
       "      <td>best kept secret 3rd time staying charm, not 5...</td>\n",
       "      <td>5</td>\n",
       "    </tr>\n",
       "    <tr>\n",
       "      <th>20487</th>\n",
       "      <td>great location price view hotel great quick pl...</td>\n",
       "      <td>4</td>\n",
       "    </tr>\n",
       "    <tr>\n",
       "      <th>20488</th>\n",
       "      <td>ok just looks nice modern outside, desk staff ...</td>\n",
       "      <td>2</td>\n",
       "    </tr>\n",
       "    <tr>\n",
       "      <th>20489</th>\n",
       "      <td>hotel theft ruined vacation hotel opened sept ...</td>\n",
       "      <td>1</td>\n",
       "    </tr>\n",
       "    <tr>\n",
       "      <th>20490</th>\n",
       "      <td>people talking, ca n't believe excellent ratin...</td>\n",
       "      <td>2</td>\n",
       "    </tr>\n",
       "  </tbody>\n",
       "</table>\n",
       "<p>20491 rows × 2 columns</p>\n",
       "</div>"
      ],
      "text/plain": [
       "                                                  Review  Rating\n",
       "0      nice hotel expensive parking got good deal sta...       4\n",
       "1      ok nothing special charge diamond member hilto...       2\n",
       "2      nice rooms not 4* experience hotel monaco seat...       3\n",
       "3      unique, great stay, wonderful time hotel monac...       5\n",
       "4      great stay great stay, went seahawk game aweso...       5\n",
       "...                                                  ...     ...\n",
       "20486  best kept secret 3rd time staying charm, not 5...       5\n",
       "20487  great location price view hotel great quick pl...       4\n",
       "20488  ok just looks nice modern outside, desk staff ...       2\n",
       "20489  hotel theft ruined vacation hotel opened sept ...       1\n",
       "20490  people talking, ca n't believe excellent ratin...       2\n",
       "\n",
       "[20491 rows x 2 columns]"
      ]
     },
     "metadata": {},
     "output_type": "display_data"
    }
   ],
   "source": [
    "datafile = 'tripadvisor_hotel_reviews.csv'\n",
    "\n",
    "df = pd.read_csv(datafile)\n",
    "\n",
    "display(df)"
   ]
  },
  {
   "cell_type": "markdown",
   "metadata": {},
   "source": [
    "### Distribution of Review Ratings"
   ]
  },
  {
   "cell_type": "code",
   "execution_count": 19,
   "metadata": {},
   "outputs": [
    {
     "data": {
      "image/png": "[encoded data removed]",
      "text/plain": [
       "<Figure size 800x600 with 1 Axes>"
      ]
     },
     "metadata": {},
     "output_type": "display_data"
    }
   ],
   "source": [
    "plt.figure(figsize=(8, 6))\n",
    "df['Rating'].hist(bins=range(1, 7))\n",
    "plt.title('Distribution of Ratings')\n",
    "plt.xlabel('Rating')\n",
    "plt.ylabel('Frequency')\n",
    "plt.xticks(range(1, 6))\n",
    "plt.grid(False)\n",
    "plt.show()"
   ]
  },
  {
   "cell_type": "markdown",
   "metadata": {},
   "source": [
    "### Sample Reviews (2 from each rating)"
   ]
  },
  {
   "cell_type": "code",
   "execution_count": 36,
   "metadata": {},
   "outputs": [
    {
     "name": "stdout",
     "output_type": "stream",
     "text": [
      "--------------------------------------------------\n",
      "Rating 1\n",
      "\n",
      " bad hotel hotel aug06 group 40 guest treated bad day night 11.50pm called reception pay money mean\n",
      "didnot wait till morning thats really bad sales dept, bad no customer service all.i dont recommend\n",
      "stay hotel.when ask genaral manager complaint talled busy, way im office manager biggest travel\n",
      "agent country adviced travel agent not deal hotel send guset.today recived upgrad room vist think\n",
      "stay hotel, no way,\n",
      "\n",
      "--------------------------------------------------\n",
      "Rating 1\n",
      "\n",
      " wrost staying, time write review website, budget traveller 10 years used stay cheaper hotels europe\n",
      "asia experience bad time.i went sf 5 days stayed hotel 2 nights, main reason chosen cheap price okay\n",
      "review website, cause did n't expect 100 hotel sf weeeknd unhappy condition room, probably worse\n",
      "30/night hostel area, staff extremely unhelpful room dark stinky curtain bath horribly dirty met 3\n",
      "staffs unfriendly not willing answer questions, started using free wifi room connect internet just\n",
      "use internet cafe mins ago pervious hotel night, suppose setting problem password needed, went\n",
      "reception ask help staff called johnathan tried help testing internet phone, n't working phone super\n",
      "slow open cnn page min, told internet working perfectly problem, just throw no, technical support\n",
      "asked, tried use phone phone room said no super bad attitude warn use phone room charged lot money,\n",
      "no matter asked just kept saying problem coz connect sort, asked told leave bad review bad service\n",
      "walked room\n",
      "\n",
      "--------------------------------------------------\n",
      "Rating 2\n",
      "\n",
      " not westin standards not close just returned night stay westin times square november 25. usually\n",
      "loyal westin traveller chose hotel westin positive experiences nyc hotels, things lacking location\n",
      "claim times square really block square, hotel lobby uninspired story street level, bell service no\n",
      "bell hop arrived help unnload car valet park, eventually inside keys ended hauling luggage trunk\n",
      "carts, getting car valet parking 45 minute ordeal ready leave, parking rate 45.00/day higher\n",
      "comparable hotels, escalators/eelvators main lobby escalator broken days stay, elderly people having\n",
      "struggle luggage broken escalator line people pressing, separate elevator use not clearly marked no\n",
      "knew, overheard woman say upper floor elevators malfunctioning taken family 1 1/2 hours downstairs\n",
      "saturday morning not elevator calling desk complain, irritated people milling bell stand, room not\n",
      "ready 3pm check-in, told come 4:15. ended waiting lobby hour, gave free drink coupon bar closed got\n",
      "use, tried old s\n",
      "\n",
      "--------------------------------------------------\n",
      "Rating 2\n",
      "\n",
      " not great place singles adverturists, ok choose hotel based reviews hotel fun great took trip\n",
      "looking great week rest relaxation little bit fun, definately got rest relaxation missing lot fun,\n",
      "room beautiful gorgeous marble/glass bathroom big ol sexy shower sinks tinyitty bitty toilet pushed\n",
      "corner bathroom door, lol, compromised space toilet bathroom great room decent size bed hell-a\n",
      "comfy, room high floor overlooking ocean resort let not forget dirty old building second hotel tower\n",
      "right smack middle view, nothing nice look, trust, n't know bright idea build new tower hotel\n",
      "looking old teases oceanview right left sides, feel sorry people lower floors sure got experience\n",
      "second tower did not high look building, spa package guys, spa great, received wonderful sweedish\n",
      "massage manicure pedicure facial, beware people charge tax spa services, eventhough spa services\n",
      "included hotel price charged 65 taxes days, definately caught guard.now far dining entertainment\n",
      "concerned great little bar\n",
      "\n",
      "--------------------------------------------------\n",
      "Rating 3\n",
      "\n",
      " resort beautiful-country beware, feel beginning review information people possible, beware security\n",
      "people airport, leaving come home belongings searched man searching bag stole 50.00 purse, caught\n",
      "reached acrossed table grabbed hand 50 hand, money true valuables person going security, just record\n",
      "bag gifts looked, went striaght purse unzipped compartment money went, ok vacation itself.iberostar\n",
      "dominicana beautiful grounds rooms ok suite old numerous problems week taken care right away,\n",
      "airfreshener suites smell like sewer rains, rains day food average inclusives better worse, eat, did\n",
      "old lets face folks pay, 6 group 3 couples different taste none problem finding eat, none got sick,\n",
      "twice diarrhea nothing horrible.the ala carte restaurants good, did mexican gourmet steak house,\n",
      "good nothing fantastic nice change, gourmet awesome hadnt overcooked lobster.the beach beautiful\n",
      "waves water fun mexico gulf no waves, group early riser save umbrella, dont need umbrella chairs\n",
      "available, pool\n",
      "\n",
      "--------------------------------------------------\n",
      "Rating 3\n",
      "\n",
      " ok tried cheap half decent hotel singapore knows impossible task, not smitten reviews did n't want\n",
      "spend fortune hotel beginning travels chose sea hotel, room quite depressing smelled damp smoke,\n",
      "location great no traffic noise pedestrenised area, stay, probably not, tight budget ok choice,\n",
      "\n",
      "--------------------------------------------------\n",
      "Rating 4\n",
      "\n",
      " great staybridge great clean rooms good services, not far fq 5-6 blocks, aware no tourist town\n",
      "overprice bring money.also no free parking, ate local spots mothers mulate__Ç_é_, poor service food\n",
      "great, really don__Ç_é_ know what__Ç_é_ big deal mother__Ç_é_, sandwiches ok nothing, no fun town,\n",
      "just remember bring lots money,\n",
      "\n",
      "--------------------------------------------------\n",
      "Rating 4\n",
      "\n",
      " small good value spent nights pacific plaza not overly impressed hotel room perfectly adequate\n",
      "needed, bed quite comfortable pillows small bit squished, room contained queen-sized bed large\n",
      "upholstered chair medium dresser large television set, bathroom small clean fresh towels soap\n",
      "provided day, happy hotel price paid, enjoyed coffee shop main level visitor lobby complete free\n",
      "internet acessible computers wonderful, staff friendly majority guests, definitely stay,\n",
      "\n",
      "--------------------------------------------------\n",
      "Rating 5\n",
      "\n",
      " excellent stay wife absolutely loved hotel service, owners walter sandro excellent hosts really\n",
      "helpful, honeymoon stay read reviews true, rooms spacious clean charming, value money ca n't beat\n",
      "venice not mention location tucked away heart residential area close busy tourist sights squares,\n",
      "breakfast good delightful read, thank walter sandro look forward staying lucky travel venice\n",
      "trip.ari michaela,\n",
      "\n",
      "--------------------------------------------------\n",
      "Rating 5\n",
      "\n",
      " oasis 10 minutes airport family 4 stayed avoid rush hour drive seatac, great idea, suite big comfy 2\n",
      "tvs door seperate areas, restaurants shopping easy walking distance, warm cookies arrival nice\n",
      "touch, shuttle service seatac timely friendly,\n",
      "\n"
     ]
    }
   ],
   "source": [
    "sampled_reviews = df.groupby('Rating').apply(lambda x: x.sample(2, replace=False)).reset_index(drop=True)\n",
    "MAX_DISPLAY = 1000\n",
    "for row, ind in enumerate(sampled_reviews.index):\n",
    "    print('-'*50)\n",
    "    text = sampled_reviews['Review'][ind][:MAX_DISPLAY] \n",
    "    wrapped_text = textwrap.fill(text, 100)\n",
    "    print(f\"Rating {sampled_reviews['Rating'][ind]}\\n\\n\", wrapped_text)\n",
    "    print() "
   ]
  },
  {
   "cell_type": "markdown",
   "metadata": {},
   "source": [
    "### Distribution of Lengths"
   ]
  },
  {
   "cell_type": "code",
   "execution_count": 40,
   "metadata": {},
   "outputs": [
    {
     "data": {
      "image/png": "[encoded data removed]",
      "text/plain": [
       "<Figure size 800x600 with 1 Axes>"
      ]
     },
     "metadata": {},
     "output_type": "display_data"
    }
   ],
   "source": [
    "df['Review_Length'] = df['Review'].apply(len)\n",
    "\n",
    "plt.figure(figsize=(8, 6))\n",
    "df['Review_Length'].hist(bins=30, edgecolor='black')\n",
    "plt.title('Review Length Distribution')\n",
    "plt.xlabel('Length of Review (Characters)')\n",
    "plt.ylabel('Frequency')\n",
    "plt.grid(False)\n",
    "plt.show()"
   ]
  }
 ],
 "metadata": {
  "kernelspec": {
   "display_name": "510_env",
   "language": "python",
   "name": "python3"
  },
  "language_info": {
   "codemirror_mode": {
    "name": "ipython",
    "version": 3
   },
   "file_extension": ".py",
   "mimetype": "text/x-python",
   "name": "python",
   "nbconvert_exporter": "python",
   "pygments_lexer": "ipython3",
   "version": "3.10.13"
  }
 },
 "nbformat": 4,
 "nbformat_minor": 2
}
